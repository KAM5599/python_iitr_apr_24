{
 "cells": [
  {
   "cell_type": "markdown",
   "metadata": {},
   "source": [
    "# Desmos:\n",
    "\n",
    "    https://www.desmos.com/calculator/pvod7eqkhl"
   ]
  },
  {
   "cell_type": "markdown",
   "metadata": {},
   "source": [
    "Modules / Package:\n",
    "    \n",
    "    https://docs.google.com/presentation/d/1TMjrczvhToZaaFbrcCoqheeQWllNYwmwPIssgrtZvuM/edit?usp=sharing\n",
    "        \n",
    "        "
   ]
  },
  {
   "cell_type": "markdown",
   "metadata": {},
   "source": [
    "Gradient Descent:\n",
    "     https://docs.google.com/spreadsheets/d/1q7Teqlgm81fmXTijy0ySmRox93KfgwgWFGtFkWGoqzE/edit?gid=0#gid=0\n",
    "    \n",
    "Underpinning:\n",
    "\n",
    "https://docs.google.com/presentation/d/1SHpt66tDkypD4CDg_tRWgtE3auHcHMITOIpl0pWp0as/edit#slide=id.g4e7616164a_0_17\n",
    "        "
   ]
  },
  {
   "cell_type": "code",
   "execution_count": null,
   "metadata": {},
   "outputs": [],
   "source": []
  }
 ],
 "metadata": {
  "kernelspec": {
   "display_name": "Python 3",
   "language": "python",
   "name": "python3"
  },
  "language_info": {
   "codemirror_mode": {
    "name": "ipython",
    "version": 3
   },
   "file_extension": ".py",
   "mimetype": "text/x-python",
   "name": "python",
   "nbconvert_exporter": "python",
   "pygments_lexer": "ipython3",
   "version": "3.6.8"
  },
  "toc": {
   "base_numbering": 1,
   "nav_menu": {},
   "number_sections": true,
   "sideBar": true,
   "skip_h1_title": false,
   "title_cell": "Table of Contents",
   "title_sidebar": "Contents",
   "toc_cell": false,
   "toc_position": {},
   "toc_section_display": true,
   "toc_window_display": false
  }
 },
 "nbformat": 4,
 "nbformat_minor": 2
}
