{
 "cells": [
  {
   "cell_type": "code",
   "execution_count": 1,
   "metadata": {},
   "outputs": [],
   "source": [
    "import numpy as np"
   ]
  },
  {
   "cell_type": "code",
   "execution_count": 4,
   "metadata": {},
   "outputs": [],
   "source": [
    "# Numpy:\n",
    "#     1. An efficient array\n",
    "#     2. Power set of functions that eliminate the need of for-loops"
   ]
  },
  {
   "cell_type": "code",
   "execution_count": 3,
   "metadata": {},
   "outputs": [],
   "source": [
    "m = 10 # Instances, rows, samples, datapoints, experiences\n",
    "n = 4 # features, columns, attributes, dimensions, characterstics, "
   ]
  },
  {
   "cell_type": "code",
   "execution_count": 5,
   "metadata": {},
   "outputs": [
    {
     "data": {
      "text/plain": [
       "array([[0.80448084, 0.43288127, 0.19885455, 0.5032878 ],\n",
       "       [0.80987313, 0.11499867, 0.85692999, 0.86052654],\n",
       "       [0.7813267 , 0.09934062, 0.84495212, 0.09642656],\n",
       "       [0.00330967, 0.98705401, 0.57833947, 0.1544363 ],\n",
       "       [0.76962738, 0.53502119, 0.96575207, 0.97832631],\n",
       "       [0.01192424, 0.88629141, 0.8307215 , 0.79081554],\n",
       "       [0.45152953, 0.82337521, 0.47451287, 0.77680343],\n",
       "       [0.22548647, 0.27478504, 0.26868688, 0.78626736],\n",
       "       [0.92442682, 0.41422572, 0.12798356, 0.88232037],\n",
       "       [0.53432265, 0.81227191, 0.16954299, 0.95397301]])"
      ]
     },
     "execution_count": 5,
     "metadata": {},
     "output_type": "execute_result"
    }
   ],
   "source": [
    "X = np.random.random((m,n)) # m rows , n columns\n",
    "X"
   ]
  },
  {
   "cell_type": "code",
   "execution_count": 29,
   "metadata": {},
   "outputs": [],
   "source": [
    "def model(X, w):\n",
    "    m = X.shape[0]\n",
    "    ones = np.ones((m, 1))\n",
    "    X1 = np.hstack((X, ones))\n",
    "    return X1.dot(w.T)"
   ]
  },
  {
   "cell_type": "code",
   "execution_count": 30,
   "metadata": {},
   "outputs": [
    {
     "data": {
      "text/plain": [
       "array([240., 300.])"
      ]
     },
     "execution_count": 30,
     "metadata": {},
     "output_type": "execute_result"
    }
   ],
   "source": [
    "w = np.array([10, 20, 30, 40])\n",
    "X = np.array([[1,2, 5], [2, 3, 6]])\n",
    "model(X, w)"
   ]
  },
  {
   "cell_type": "code",
   "execution_count": 33,
   "metadata": {},
   "outputs": [
    {
     "data": {
      "text/plain": [
       "array([[240., 241., 242., 246., 241.],\n",
       "       [300., 302., 303., 308., 301.]])"
      ]
     },
     "execution_count": 33,
     "metadata": {},
     "output_type": "execute_result"
    }
   ],
   "source": [
    "w = np.array([[10, 20, 30, 40],\n",
    "              [11, 20, 30, 40],\n",
    "              [10, 21, 30, 40],\n",
    "              [11, 20, 31, 40],\n",
    "              [10, 20, 30, 41]\n",
    "             ])\n",
    "X = np.array([[1,2, 5], [2, 3, 6]])\n",
    "model(X, w)"
   ]
  },
  {
   "cell_type": "code",
   "execution_count": 24,
   "metadata": {},
   "outputs": [],
   "source": [
    "def generateData(m, n=1):\n",
    "    np.random.seed(10)\n",
    "    w = np.random.randint(10, 200, n+1)\n",
    "    print(\"Coeffs\",w)\n",
    "    X = np.random.random((m,n))\n",
    "    y = model(X, w) + 2*np.random.random((m)) - 2*np.random.random((m))\n",
    "    return X, y"
   ]
  },
  {
   "cell_type": "code",
   "execution_count": 25,
   "metadata": {},
   "outputs": [
    {
     "name": "stdout",
     "output_type": "stream",
     "text": [
      "Coeffs [ 19 135  25]\n"
     ]
    }
   ],
   "source": [
    "X, y = generateData(10, 2)"
   ]
  },
  {
   "cell_type": "code",
   "execution_count": 36,
   "metadata": {},
   "outputs": [
    {
     "name": "stdout",
     "output_type": "stream",
     "text": [
      "[[1]\n",
      " [2]]\n"
     ]
    },
    {
     "data": {
      "text/plain": [
       "array([[ 0.1,  0.2],\n",
       "       [-0.1,  0.1]])"
      ]
     },
     "execution_count": 36,
     "metadata": {},
     "output_type": "execute_result"
    }
   ],
   "source": [
    "y = np.array([1, 2])\n",
    "y = y.reshape(-1, 1)\n",
    "print(y)\n",
    "ypred = np.array([[1.1, 1.2], [1.9, 2.1]])\n",
    "ypred - y"
   ]
  },
  {
   "cell_type": "code",
   "execution_count": 119,
   "metadata": {},
   "outputs": [],
   "source": [
    "X = np.array([[1], [2], [3]])\n",
    "y = np.array([5.1, 7.9, 11.1]).reshape(-1, 1) # 3 x 1"
   ]
  },
  {
   "cell_type": "code",
   "execution_count": 120,
   "metadata": {},
   "outputs": [],
   "source": [
    "w = np.array([[1, 2]]) # initial guess"
   ]
  },
  {
   "cell_type": "code",
   "execution_count": null,
   "metadata": {},
   "outputs": [],
   "source": []
  },
  {
   "cell_type": "code",
   "execution_count": 121,
   "metadata": {},
   "outputs": [
    {
     "name": "stdout",
     "output_type": "stream",
     "text": [
      "[[3.]\n",
      " [4.]\n",
      " [5.]]\n"
     ]
    }
   ],
   "source": [
    "# iteration would start\n",
    "ypred = model(X, w)\n",
    "print(ypred)"
   ]
  },
  {
   "cell_type": "code",
   "execution_count": 122,
   "metadata": {},
   "outputs": [
    {
     "name": "stdout",
     "output_type": "stream",
     "text": [
      "error:  [[-2.1]\n",
      " [-3.9]\n",
      " [-6.1]]\n",
      "loss:  56.83\n"
     ]
    }
   ],
   "source": [
    "\n",
    "d = ypred - y\n",
    "print(\"error: \", d)\n",
    "initial_loss = np.sum(d*d)\n",
    "print(\"loss: \", initial_loss)"
   ]
  },
  {
   "cell_type": "code",
   "execution_count": null,
   "metadata": {},
   "outputs": [],
   "source": []
  },
  {
   "cell_type": "code",
   "execution_count": 123,
   "metadata": {},
   "outputs": [],
   "source": [
    "def lossf(X, y, w): #X: m*n, y: m * 1, w: -1 * n + 1\n",
    "    pred = model(X, w)\n",
    "    error = pred - y #.reshape(-1, 1)\n",
    "    sq_error = error*error\n",
    "    loss = np.sum(sq_error,axis=0)\n",
    "    return loss"
   ]
  },
  {
   "cell_type": "code",
   "execution_count": 124,
   "metadata": {},
   "outputs": [
    {
     "data": {
      "text/plain": [
       "array([56.83])"
      ]
     },
     "execution_count": 124,
     "metadata": {},
     "output_type": "execute_result"
    }
   ],
   "source": [
    "lossf(X, y, w)"
   ]
  },
  {
   "cell_type": "code",
   "execution_count": 140,
   "metadata": {},
   "outputs": [
    {
     "data": {
      "text/plain": [
       "array([[1, 2]])"
      ]
     },
     "execution_count": 140,
     "metadata": {},
     "output_type": "execute_result"
    }
   ],
   "source": [
    "w"
   ]
  },
  {
   "cell_type": "code",
   "execution_count": 61,
   "metadata": {},
   "outputs": [],
   "source": [
    "delta = 0.01\n",
    "w_ = np.array([[1+0.01, 2], [1, 2 + 0.01]])"
   ]
  },
  {
   "cell_type": "code",
   "execution_count": 141,
   "metadata": {},
   "outputs": [],
   "source": [
    "def incr_w(delta, w):\n",
    "#     print(w.shape)\n",
    "    numw = w.shape[-1]\n",
    "#     print(numw)\n",
    "    a = np.zeros((numw, numw))\n",
    "#     print(a)\n",
    "    np.fill_diagonal(a, delta)\n",
    "#     print(a)\n",
    "    return w +  a"
   ]
  },
  {
   "cell_type": "code",
   "execution_count": 143,
   "metadata": {},
   "outputs": [
    {
     "data": {
      "text/plain": [
       "array([[1.01, 2.  ],\n",
       "       [1.  , 2.01]])"
      ]
     },
     "execution_count": 143,
     "metadata": {},
     "output_type": "execute_result"
    }
   ],
   "source": [
    "w_ = incr_w(delta, w)\n",
    "w_"
   ]
  },
  {
   "cell_type": "code",
   "execution_count": 62,
   "metadata": {},
   "outputs": [
    {
     "data": {
      "text/plain": [
       "array([[3.01, 3.01],\n",
       "       [4.02, 4.01],\n",
       "       [5.03, 5.01]])"
      ]
     },
     "execution_count": 62,
     "metadata": {},
     "output_type": "execute_result"
    }
   ],
   "source": [
    "new_pred = model(X, w_)\n",
    "new_pred"
   ]
  },
  {
   "cell_type": "code",
   "execution_count": 63,
   "metadata": {},
   "outputs": [
    {
     "data": {
      "text/plain": [
       "array([[-2.09, -2.09],\n",
       "       [-3.88, -3.89],\n",
       "       [-6.07, -6.09]])"
      ]
     },
     "execution_count": 63,
     "metadata": {},
     "output_type": "execute_result"
    }
   ],
   "source": [
    "new_error = new_pred - y.reshape(-1, 1)\n",
    "new_error"
   ]
  },
  {
   "cell_type": "code",
   "execution_count": 65,
   "metadata": {},
   "outputs": [
    {
     "data": {
      "text/plain": [
       "array([[ 4.3681,  4.3681],\n",
       "       [15.0544, 15.1321],\n",
       "       [36.8449, 37.0881]])"
      ]
     },
     "execution_count": 65,
     "metadata": {},
     "output_type": "execute_result"
    }
   ],
   "source": [
    "sq_error = new_error*new_error\n",
    "sq_error"
   ]
  },
  {
   "cell_type": "code",
   "execution_count": 72,
   "metadata": {},
   "outputs": [
    {
     "data": {
      "text/plain": [
       "array([56.2674, 56.5883])"
      ]
     },
     "execution_count": 72,
     "metadata": {},
     "output_type": "execute_result"
    }
   ],
   "source": [
    "loss = np.sum(sq_error,axis=0)\n",
    "loss"
   ]
  },
  {
   "cell_type": "code",
   "execution_count": 145,
   "metadata": {},
   "outputs": [
    {
     "data": {
      "text/plain": [
       "array([56.2674, 56.5883])"
      ]
     },
     "execution_count": 145,
     "metadata": {},
     "output_type": "execute_result"
    }
   ],
   "source": [
    "new_loss = lossf(X, y, w_)\n",
    "new_loss    "
   ]
  },
  {
   "cell_type": "code",
   "execution_count": 73,
   "metadata": {},
   "outputs": [
    {
     "data": {
      "text/plain": [
       "56.83"
      ]
     },
     "execution_count": 73,
     "metadata": {},
     "output_type": "execute_result"
    }
   ],
   "source": [
    "initial_loss"
   ]
  },
  {
   "cell_type": "code",
   "execution_count": 75,
   "metadata": {},
   "outputs": [
    {
     "data": {
      "text/plain": [
       "array([-56.26, -24.17])"
      ]
     },
     "execution_count": 75,
     "metadata": {},
     "output_type": "execute_result"
    }
   ],
   "source": [
    "grads = (loss - initial_loss)/delta\n",
    "grads"
   ]
  },
  {
   "cell_type": "code",
   "execution_count": 77,
   "metadata": {},
   "outputs": [
    {
     "data": {
      "text/plain": [
       "array([1, 2])"
      ]
     },
     "execution_count": 77,
     "metadata": {},
     "output_type": "execute_result"
    }
   ],
   "source": [
    "w"
   ]
  },
  {
   "cell_type": "code",
   "execution_count": 148,
   "metadata": {},
   "outputs": [
    {
     "data": {
      "text/plain": [
       "array([-56.26, -24.17])"
      ]
     },
     "execution_count": 148,
     "metadata": {},
     "output_type": "execute_result"
    }
   ],
   "source": []
  },
  {
   "cell_type": "code",
   "execution_count": null,
   "metadata": {},
   "outputs": [],
   "source": []
  },
  {
   "cell_type": "code",
   "execution_count": 81,
   "metadata": {
    "scrolled": true
   },
   "outputs": [],
   "source": [
    "eta = 0.01\n",
    "w = w - eta * grads"
   ]
  },
  {
   "cell_type": "code",
   "execution_count": 82,
   "metadata": {},
   "outputs": [
    {
     "data": {
      "text/plain": [
       "array([1.5626, 2.2417])"
      ]
     },
     "execution_count": 82,
     "metadata": {},
     "output_type": "execute_result"
    }
   ],
   "source": [
    "w"
   ]
  },
  {
   "cell_type": "code",
   "execution_count": 2,
   "metadata": {},
   "outputs": [],
   "source": [
    "def model(X, w):\n",
    "    m = X.shape[0]\n",
    "    ones = np.ones((m, 1))\n",
    "    X1 = np.hstack((X, ones))\n",
    "    return X1.dot(w.T)"
   ]
  },
  {
   "cell_type": "code",
   "execution_count": 3,
   "metadata": {},
   "outputs": [],
   "source": [
    "def lossf(X, y, w): #X: m*n, y: m * 1, w: -1 * n\n",
    "    pred = model(X, w)\n",
    "    error = pred - y #.reshape(-1, 1)\n",
    "    sq_error = error*error\n",
    "    loss = np.sum(sq_error,axis=0)\n",
    "    return loss"
   ]
  },
  {
   "cell_type": "code",
   "execution_count": 4,
   "metadata": {},
   "outputs": [],
   "source": [
    "def incr_w(delta, w):\n",
    "    numw = w.shape[-1]\n",
    "    a = np.zeros((numw, numw))\n",
    "    np.fill_diagonal(a, delta)\n",
    "    return w +  a"
   ]
  },
  {
   "cell_type": "code",
   "execution_count": 5,
   "metadata": {},
   "outputs": [],
   "source": [
    "def compute_grad(X, y, w):\n",
    "    delta = 1e-10\n",
    "    initial_loss = lossf(X, y, w)\n",
    "    w_ = incr_w(delta, w)\n",
    "    new_loss = lossf(X, y, w_)\n",
    "    grads = (new_loss - initial_loss)/delta\n",
    "    return grads"
   ]
  },
  {
   "cell_type": "code",
   "execution_count": 6,
   "metadata": {},
   "outputs": [],
   "source": [
    "def new_weights(X, y, w):\n",
    "    eta = 0.01\n",
    "    grads = compute_grad(X, y, w)\n",
    "    w = w - eta * grads\n",
    "    return w"
   ]
  },
  {
   "cell_type": "code",
   "execution_count": 12,
   "metadata": {},
   "outputs": [
    {
     "name": "stdout",
     "output_type": "stream",
     "text": [
      "0 loss:  [25.43088504] , weights:  [[1.5640004  2.24199949]]\n",
      "1 loss:  [11.45121768] , weights:  [[1.94104031 2.40179948]]\n",
      "2 loss:  [5.22620591] , weights:  [[2.19333325 2.50676672]]\n",
      "3 loss:  [2.45337781] , weights:  [[2.36238789 2.57516072]]\n",
      "4 loss:  [1.21738314] , weights:  [[2.47589998 2.61916454]]\n",
      "5 loss:  [0.66556632] , weights:  [[2.55234827 2.64690671]]\n",
      "6 loss:  [0.41834939] , weights:  [[2.60406195 2.66381051]]\n",
      "7 loss:  [0.30675387] , weights:  [[2.63926735 2.67349445]]\n",
      "8 loss:  [0.25555535] , weights:  [[2.66345316 2.6783727 ]]\n",
      "9 loss:  [0.23126569] , weights:  [[2.68028155 2.68005596]]\n",
      "10 loss:  [0.21897659] , weights:  [[2.692196   2.67961882]]\n",
      "11 loss:  [0.21205103] , weights:  [[2.70082686 2.67777817]]\n",
      "12 loss:  [0.20753407] , weights:  [[2.70726196 2.67501226]]\n",
      "13 loss:  [0.20410995] , weights:  [[2.71222714 2.67164009]]\n",
      "14 loss:  [0.20119264] , weights:  [[2.71620673 2.66787442]]\n",
      "15 loss:  [0.19852098] , weights:  [[2.71952392 2.66385715]]\n",
      "16 loss:  [0.19597839] , weights:  [[2.72239436 2.65968285]]\n",
      "17 loss:  [0.19351273] , weights:  [[2.724962   2.65541455]]\n",
      "18 loss:  [0.19110046] , weights:  [[2.72732289 2.65109424]]\n",
      "19 loss:  [0.18873087] , weights:  [[2.72954117 2.64674984]]\n",
      "20 loss:  [0.18639889] , weights:  [[2.73165967 2.64239991]]\n",
      "21 loss:  [0.18410202] , weights:  [[2.73370697 2.63805675]]\n",
      "22 loss:  [0.18183886] , weights:  [[2.73570221 2.63372851]]\n",
      "23 loss:  [0.17960854] , weights:  [[2.73765817 2.62942054]]\n",
      "24 loss:  [0.17741041] , weights:  [[2.73958342 2.62513632]]\n",
      "25 loss:  [0.17524393] , weights:  [[2.7414837  2.62087813]]\n",
      "26 loss:  [0.17310862] , weights:  [[2.74336289 2.6166474 ]]\n",
      "27 loss:  [0.17100401] , weights:  [[2.74522359 2.61244501]]\n",
      "28 loss:  [0.16892965] , weights:  [[2.74706758 2.60827147]]\n",
      "29 loss:  [0.1668851] , weights:  [[2.74889608 2.60412707]]\n",
      "30 loss:  [0.16486994] , weights:  [[2.75070993 2.60001192]]\n",
      "31 loss:  [0.16288374] , weights:  [[2.75250972 2.59592601]]\n",
      "32 loss:  [0.16092609] , weights:  [[2.75429588 2.59186929]]\n",
      "33 loss:  [0.15899657] , weights:  [[2.75606872 2.58784163]]\n",
      "34 loss:  [0.15709478] , weights:  [[2.75782848 2.58384288]]\n",
      "35 loss:  [0.15522032] , weights:  [[2.75957536 2.57987289]]\n",
      "36 loss:  [0.1533728] , weights:  [[2.76130951 2.57593147]]\n",
      "37 loss:  [0.15155183] , weights:  [[2.76303107 2.57201844]]\n",
      "38 loss:  [0.14975704] , weights:  [[2.76474016 2.56813361]]\n",
      "39 loss:  [0.14798803] , weights:  [[2.76643688 2.56427677]]\n",
      "40 loss:  [0.14624445] , weights:  [[2.76812134 2.56044774]]\n",
      "41 loss:  [0.14452593] , weights:  [[2.76979364 2.55664631]]\n",
      "42 loss:  [0.14283211] , weights:  [[2.77145386 2.5528723 ]]\n",
      "43 loss:  [0.14116263] , weights:  [[2.7731021  2.54912549]]\n",
      "44 loss:  [0.13951714] , weights:  [[2.77473846 2.54540571]]\n",
      "45 loss:  [0.1378953] , weights:  [[2.776363   2.54171276]]\n",
      "46 loss:  [0.13629677] , weights:  [[2.77797583 2.53804643]]\n",
      "47 loss:  [0.13472121] , weights:  [[2.77957703 2.53440655]]\n",
      "48 loss:  [0.1331683] , weights:  [[2.78116668 2.53079291]]\n",
      "49 loss:  [0.1316377] , weights:  [[2.78274486 2.52720534]]\n",
      "50 loss:  [0.1301291] , weights:  [[2.78431166 2.52364363]]\n",
      "51 loss:  [0.12864218] , weights:  [[2.78586716 2.52010761]]\n",
      "52 loss:  [0.12717663] , weights:  [[2.78741144 2.5165971 ]]\n",
      "53 loss:  [0.12573215] , weights:  [[2.78894458 2.5131119 ]]\n",
      "54 loss:  [0.12430842] , weights:  [[2.79046667 2.50965183]]\n",
      "55 loss:  [0.12290515] , weights:  [[2.79197778 2.50621672]]\n",
      "56 loss:  [0.12152205] , weights:  [[2.793478   2.50280638]]\n",
      "57 loss:  [0.12015883] , weights:  [[2.79496739 2.49942064]]\n",
      "58 loss:  [0.1188152] , weights:  [[2.79644605 2.49605931]]\n",
      "59 loss:  [0.11749088] , weights:  [[2.79791404 2.49272223]]\n",
      "60 loss:  [0.11618559] , weights:  [[2.79937144 2.48940921]]\n",
      "61 loss:  [0.11489906] , weights:  [[2.80081833 2.48612008]]\n",
      "62 loss:  [0.11363102] , weights:  [[2.80225479 2.48285468]]\n",
      "63 loss:  [0.11238121] , weights:  [[2.80368089 2.47961282]]\n",
      "64 loss:  [0.11114936] , weights:  [[2.8050967  2.47639434]]\n",
      "65 loss:  [0.10993521] , weights:  [[2.8065023  2.47319908]]\n",
      "66 loss:  [0.10873851] , weights:  [[2.80789777 2.47002686]]\n",
      "67 loss:  [0.107559] , weights:  [[2.80928317 2.46687751]]\n",
      "68 loss:  [0.10639645] , weights:  [[2.81065858 2.46375088]]\n",
      "69 loss:  [0.10525061] , weights:  [[2.81202407 2.4606468 ]]\n",
      "70 loss:  [0.10412124] , weights:  [[2.81337972 2.4575651 ]]\n",
      "71 loss:  [0.10300809] , weights:  [[2.81472558 2.45450563]]\n",
      "72 loss:  [0.10191094] , weights:  [[2.81606174 2.45146822]]\n",
      "73 loss:  [0.10082957] , weights:  [[2.81738827 2.44845272]]\n",
      "74 loss:  [0.09976373] , weights:  [[2.81870523 2.44545897]]\n",
      "75 loss:  [0.09871321] , weights:  [[2.82001269 2.4424868 ]]\n",
      "76 loss:  [0.09767778] , weights:  [[2.82131072 2.43953607]]\n",
      "77 loss:  [0.09665724] , weights:  [[2.82259939 2.43660662]]\n",
      "78 loss:  [0.09565137] , weights:  [[2.82387877 2.43369829]]\n",
      "79 loss:  [0.09465995] , weights:  [[2.82514892 2.43081094]]\n",
      "80 loss:  [0.09368278] , weights:  [[2.82640991 2.42794441]]\n",
      "81 loss:  [0.09271965] , weights:  [[2.8276618  2.42509856]]\n",
      "82 loss:  [0.09177036] , weights:  [[2.82890467 2.42227323]]\n",
      "83 loss:  [0.09083472] , weights:  [[2.83013858 2.41946828]]\n",
      "84 loss:  [0.08991252] , weights:  [[2.83136358 2.41668355]]\n",
      "85 loss:  [0.08900358] , weights:  [[2.83257975 2.41391891]]\n",
      "86 loss:  [0.0881077] , weights:  [[2.83378715 2.4111742 ]]\n",
      "87 loss:  [0.0872247] , weights:  [[2.83498585 2.40844929]]\n",
      "88 loss:  [0.08635438] , weights:  [[2.83617589 2.40574403]]\n",
      "89 loss:  [0.08549658] , weights:  [[2.83735736 2.40305828]]\n",
      "90 loss:  [0.0846511] , weights:  [[2.8385303 2.4003919]]\n",
      "91 loss:  [0.08381777] , weights:  [[2.83969479 2.39774475]]\n",
      "92 loss:  [0.08299642] , weights:  [[2.84085088 2.39511669]]\n",
      "93 loss:  [0.08218687] , weights:  [[2.84199863 2.39250759]]\n",
      "94 loss:  [0.08138896] , weights:  [[2.8431381 2.3899173]]\n",
      "95 loss:  [0.08060251] , weights:  [[2.84426936 2.38734568]]\n",
      "96 loss:  [0.07982737] , weights:  [[2.84539246 2.38479262]]\n",
      "97 loss:  [0.07906337] , weights:  [[2.84650745 2.38225797]]\n",
      "98 loss:  [0.07831034] , weights:  [[2.84761441 2.3797416 ]]\n",
      "99 loss:  [0.07756814] , weights:  [[2.84871338 2.37724337]]\n",
      "100 loss:  [0.07683661] , weights:  [[2.84980443 2.37476316]]\n",
      "101 loss:  [0.07611559] , weights:  [[2.85088761 2.37230084]]\n",
      "102 loss:  [0.07540493] , weights:  [[2.85196298 2.36985628]]\n",
      "103 loss:  [0.07470448] , weights:  [[2.85303059 2.36742934]]\n",
      "104 loss:  [0.0740141] , weights:  [[2.8540905  2.36501991]]\n",
      "105 loss:  [0.07333364] , weights:  [[2.85514278 2.36262786]]\n",
      "106 loss:  [0.07266297] , weights:  [[2.85618746 2.36025305]]\n",
      "107 loss:  [0.07200193] , weights:  [[2.8572246  2.35789538]]\n",
      "108 loss:  [0.07135039] , weights:  [[2.85825427 2.3555547 ]]\n",
      "109 loss:  [0.07070821] , weights:  [[2.85927651 2.35323091]]\n",
      "110 loss:  [0.07007527] , weights:  [[2.86029138 2.35092387]]\n",
      "111 loss:  [0.06945142] , weights:  [[2.86129893 2.34863347]]\n",
      "112 loss:  [0.06883653] , weights:  [[2.86229921 2.34635959]]\n",
      "113 loss:  [0.06823048] , weights:  [[2.86329228 2.34410211]]\n",
      "114 loss:  [0.06763315] , weights:  [[2.86427819 2.34186091]]\n",
      "115 loss:  [0.06704439] , weights:  [[2.86525699 2.33963587]]\n",
      "116 loss:  [0.0664641] , weights:  [[2.86622873 2.33742688]]\n",
      "117 loss:  [0.06589215] , weights:  [[2.86719346 2.33523382]]\n",
      "118 loss:  [0.06532842] , weights:  [[2.86815123 2.33305658]]\n",
      "119 loss:  [0.06477279] , weights:  [[2.8691021  2.33089503]]\n",
      "120 loss:  [0.06422514] , weights:  [[2.87004611 2.32874908]]\n",
      "121 loss:  [0.06368537] , weights:  [[2.87098331 2.3266186 ]]\n",
      "122 loss:  [0.06315335] , weights:  [[2.87191375 2.32450349]]\n",
      "123 loss:  [0.06262898] , weights:  [[2.87283748 2.32240363]]\n",
      "124 loss:  [0.06211214] , weights:  [[2.87375455 2.32031891]]\n",
      "125 loss:  [0.06160274] , weights:  [[2.87466501 2.31824923]]\n",
      "126 loss:  [0.06110065] , weights:  [[2.8755689  2.31619448]]\n",
      "127 loss:  [0.06060578] , weights:  [[2.87646627 2.31415454]]\n",
      "128 loss:  [0.06011802] , weights:  [[2.87735717 2.31212932]]\n",
      "129 loss:  [0.05963727] , weights:  [[2.87824164 2.3101187 ]]\n",
      "130 loss:  [0.05916343] , weights:  [[2.87911974 2.30812258]]\n",
      "131 loss:  [0.0586964] , weights:  [[2.8799915  2.30614086]]\n",
      "132 loss:  [0.05823608] , weights:  [[2.88085698 2.30417342]]\n",
      "133 loss:  [0.05778238] , weights:  [[2.88171622 2.30222018]]\n",
      "134 loss:  [0.0573352] , weights:  [[2.88256925 2.30028102]]\n",
      "135 loss:  [0.05689444] , weights:  [[2.88341614 2.29835585]]\n",
      "136 loss:  [0.05646002] , weights:  [[2.88425692 2.29644456]]\n",
      "137 loss:  [0.05603185] , weights:  [[2.88509163 2.29454706]]\n",
      "138 loss:  [0.05560982] , weights:  [[2.88592033 2.29266324]]\n",
      "139 loss:  [0.05519386] , weights:  [[2.88674305 2.290793  ]]\n",
      "140 loss:  [0.05478388] , weights:  [[2.88755983 2.28893626]]\n",
      "141 loss:  [0.05437979] , weights:  [[2.88837073 2.2870929 ]]\n",
      "142 loss:  [0.05398151] , weights:  [[2.88917578 2.28526284]]\n",
      "143 loss:  [0.05358895] , weights:  [[2.88997502 2.28344597]]\n",
      "144 loss:  [0.05320204] , weights:  [[2.8907685  2.28164221]]\n",
      "145 loss:  [0.05282068] , weights:  [[2.89155625 2.27985146]]\n",
      "146 loss:  [0.05244481] , weights:  [[2.89233832 2.27807362]]\n",
      "147 loss:  [0.05207434] , weights:  [[2.89311476 2.27630861]]\n",
      "148 loss:  [0.05170919] , weights:  [[2.89388559 2.27455632]]\n",
      "149 loss:  [0.05134929] , weights:  [[2.89465087 2.27281667]]\n",
      "150 loss:  [0.05099456] , weights:  [[2.89541063 2.27108956]]\n",
      "151 loss:  [0.05064493] , weights:  [[2.8961649  2.26937491]]\n",
      "152 loss:  [0.05030032] , weights:  [[2.89691374 2.26767263]]\n",
      "153 loss:  [0.04996067] , weights:  [[2.89765718 2.26598262]]\n",
      "154 loss:  [0.0496259] , weights:  [[2.89839525 2.2643048 ]]\n",
      "155 loss:  [0.04929594] , weights:  [[2.89912801 2.26263909]]\n",
      "156 loss:  [0.04897072] , weights:  [[2.89985548 2.26098538]]\n",
      "157 loss:  [0.04865017] , weights:  [[2.9005777 2.2593436]]\n",
      "158 loss:  [0.04833424] , weights:  [[2.90129471 2.25771366]]\n",
      "159 loss:  [0.04802284] , weights:  [[2.90200655 2.25609547]]\n",
      "160 loss:  [0.04771592] , weights:  [[2.90271326 2.25448896]]\n",
      "161 loss:  [0.04741341] , weights:  [[2.90341487 2.25289403]]\n",
      "162 loss:  [0.04711524] , weights:  [[2.90411142 2.2513106 ]]\n",
      "163 loss:  [0.04682136] , weights:  [[2.90480295 2.2497386 ]]\n",
      "164 loss:  [0.04653171] , weights:  [[2.9054895  2.24817793]]\n",
      "165 loss:  [0.04624622] , weights:  [[2.90617109 2.24662851]]\n",
      "166 loss:  [0.04596483] , weights:  [[2.90684776 2.24509027]]\n",
      "167 loss:  [0.04568748] , weights:  [[2.90751956 2.24356312]]\n",
      "168 loss:  [0.04541412] , weights:  [[2.90818651 2.24204699]]\n",
      "169 loss:  [0.04514469] , weights:  [[2.90884865 2.24054179]]\n",
      "170 loss:  [0.04487914] , weights:  [[2.90950601 2.23904744]]\n",
      "171 loss:  [0.04461739] , weights:  [[2.91015863 2.23756388]]\n",
      "172 loss:  [0.04435941] , weights:  [[2.91080655 2.23609101]]\n",
      "173 loss:  [0.04410514] , weights:  [[2.9114498  2.23462876]]\n",
      "174 loss:  [0.04385452] , weights:  [[2.9120884  2.23317706]]\n",
      "175 loss:  [0.04360751] , weights:  [[2.9127224  2.23173583]]\n",
      "176 loss:  [0.04336404] , weights:  [[2.91335183 2.23030499]]\n",
      "177 loss:  [0.04312407] , weights:  [[2.91397672 2.22888447]]\n",
      "178 loss:  [0.04288755] , weights:  [[2.9145971 2.2274742]]\n",
      "179 loss:  [0.04265443] , weights:  [[2.91521301 2.22607409]]\n",
      "180 loss:  [0.04242466] , weights:  [[2.91582448 2.22468409]]\n",
      "181 loss:  [0.0421982] , weights:  [[2.91643153 2.2233041 ]]\n",
      "182 loss:  [0.04197498] , weights:  [[2.91703421 2.22193407]]\n",
      "183 loss:  [0.04175498] , weights:  [[2.91763254 2.22057392]]\n",
      "184 loss:  [0.04153814] , weights:  [[2.91822656 2.21922358]]\n",
      "185 loss:  [0.04132441] , weights:  [[2.91881629 2.21788298]]\n",
      "186 loss:  [0.04111375] , weights:  [[2.91940178 2.21655205]]\n",
      "187 loss:  [0.04090613] , weights:  [[2.91998303 2.21523071]]\n",
      "188 loss:  [0.04070148] , weights:  [[2.9205601 2.2139189]]\n",
      "189 loss:  [0.04049978] , weights:  [[2.921133   2.21261656]]\n",
      "190 loss:  [0.04030098] , weights:  [[2.92170177 2.2113236 ]]\n",
      "191 loss:  [0.04010503] , weights:  [[2.92226645 2.21003997]]\n",
      "192 loss:  [0.0399119] , weights:  [[2.92282704 2.2087656 ]]\n",
      "193 loss:  [0.03972155] , weights:  [[2.9233836  2.20750042]]\n",
      "194 loss:  [0.03953393] , weights:  [[2.92393614 2.20624436]]\n",
      "195 loss:  [0.039349] , weights:  [[2.9244847  2.20499737]]\n",
      "196 loss:  [0.03916674] , weights:  [[2.9250293  2.20375936]]\n",
      "197 loss:  [0.03898709] , weights:  [[2.92556997 2.20253028]]\n",
      "198 loss:  [0.03881003] , weights:  [[2.92610675 2.20131007]]\n",
      "199 loss:  [0.03863551] , weights:  [[2.92663965 2.20009865]]\n",
      "200 loss:  [0.0384635] , weights:  [[2.92716871 2.19889598]]\n",
      "201 loss:  [0.03829396] , weights:  [[2.92769395 2.19770197]]\n",
      "202 loss:  [0.03812686] , weights:  [[2.92821541 2.19651658]]\n",
      "203 loss:  [0.03796216] , weights:  [[2.92873311 2.19533974]]\n",
      "204 loss:  [0.03779982] , weights:  [[2.92924707 2.19417138]]\n",
      "205 loss:  [0.03763982] , weights:  [[2.92975732 2.19301145]]\n",
      "206 loss:  [0.03748212] , weights:  [[2.9302639  2.19185988]]\n",
      "207 loss:  [0.03732668] , weights:  [[2.93076682 2.19071662]]\n",
      "208 loss:  [0.03717348] , weights:  [[2.93126612 2.1895816 ]]\n",
      "209 loss:  [0.03702248] , weights:  [[2.93176181 2.18845477]]\n",
      "210 loss:  [0.03687365] , weights:  [[2.93225393 2.18733607]]\n",
      "211 loss:  [0.03672696] , weights:  [[2.9327425  2.18622544]]\n",
      "212 loss:  [0.03658238] , weights:  [[2.93322755 2.18512281]]\n",
      "213 loss:  [0.03643988] , weights:  [[2.9337091  2.18402813]]\n",
      "214 loss:  [0.03629942] , weights:  [[2.93418717 2.18294135]]\n",
      "215 loss:  [0.03616098] , weights:  [[2.9346618  2.18186241]]\n",
      "216 loss:  [0.03602453] , weights:  [[2.93513301 2.18079125]]\n",
      "217 loss:  [0.03589005] , weights:  [[2.93560082 2.17972781]]\n",
      "218 loss:  [0.03575749] , weights:  [[2.93606525 2.17867205]]\n",
      "219 loss:  [0.03562684] , weights:  [[2.93652633 2.1776239 ]]\n",
      "220 loss:  [0.03549807] , weights:  [[2.93698409 2.1765833 ]]\n",
      "221 loss:  [0.03537115] , weights:  [[2.93743855 2.17555021]]\n",
      "222 loss:  [0.03524605] , weights:  [[2.93788973 2.17452457]]\n",
      "223 loss:  [0.03512275] , weights:  [[2.93833766 2.17350633]]\n",
      "224 loss:  [0.03500123] , weights:  [[2.93878235 2.17249543]]\n",
      "225 loss:  [0.03488144] , weights:  [[2.93922384 2.17149182]]\n",
      "226 loss:  [0.03476339] , weights:  [[2.93966215 2.17049545]]\n",
      "227 loss:  [0.03464702] , weights:  [[2.94009729 2.16950627]]\n",
      "228 loss:  [0.03453233] , weights:  [[2.9405293  2.16852422]]\n",
      "229 loss:  [0.03441929] , weights:  [[2.94095819 2.16754925]]\n",
      "230 loss:  [0.03430787] , weights:  [[2.94138399 2.16658131]]\n",
      "231 loss:  [0.03419806] , weights:  [[2.94180671 2.16562035]]\n",
      "232 loss:  [0.03408982] , weights:  [[2.94222639 2.16466633]]\n",
      "233 loss:  [0.03398314] , weights:  [[2.94264304 2.16371918]]\n",
      "234 loss:  [0.03387799] , weights:  [[2.94305669 2.16277886]]\n",
      "235 loss:  [0.03377435] , weights:  [[2.94346735 2.16184533]]\n",
      "236 loss:  [0.0336722] , weights:  [[2.94387505 2.16091853]]\n",
      "237 loss:  [0.03357152] , weights:  [[2.94427982 2.15999841]]\n",
      "238 loss:  [0.03347229] , weights:  [[2.94468166 2.15908493]]\n",
      "239 loss:  [0.03337448] , weights:  [[2.9450806  2.15817803]]\n",
      "240 loss:  [0.03327808] , weights:  [[2.94547667 2.15727768]]\n",
      "241 loss:  [0.03318306] , weights:  [[2.94586988 2.15638382]]\n",
      "242 loss:  [0.03308941] , weights:  [[2.94626026 2.1554964 ]]\n",
      "243 loss:  [0.0329971] , weights:  [[2.94664782 2.15461539]]\n",
      "244 loss:  [0.03290613] , weights:  [[2.94703258 2.15374073]]\n"
     ]
    },
    {
     "name": "stdout",
     "output_type": "stream",
     "text": [
      "245 loss:  [0.03281646] , weights:  [[2.94741457 2.15287237]]\n",
      "246 loss:  [0.03272807] , weights:  [[2.94779381 2.15201028]]\n",
      "247 loss:  [0.03264096] , weights:  [[2.94817031 2.15115441]]\n",
      "248 loss:  [0.0325551] , weights:  [[2.94854409 2.15030471]]\n",
      "249 loss:  [0.03247047] , weights:  [[2.94891518 2.14946113]]\n",
      "250 loss:  [0.03238707] , weights:  [[2.94928359 2.14862364]]\n",
      "251 loss:  [0.03230485] , weights:  [[2.94964935 2.14779219]]\n",
      "252 loss:  [0.03222382] , weights:  [[2.95001247 2.14696674]]\n",
      "253 loss:  [0.03214396] , weights:  [[2.95037297 2.14614724]]\n",
      "254 loss:  [0.03206524] , weights:  [[2.95073087 2.14533365]]\n",
      "255 loss:  [0.03198766] , weights:  [[2.95108619 2.14452593]]\n",
      "256 loss:  [0.03191118] , weights:  [[2.95143894 2.14372403]]\n",
      "257 loss:  [0.03183581] , weights:  [[2.95178916 2.14292791]]\n",
      "258 loss:  [0.03176152] , weights:  [[2.95213684 2.14213754]]\n",
      "259 loss:  [0.0316883] , weights:  [[2.95248202 2.14135286]]\n",
      "260 loss:  [0.03161613] , weights:  [[2.95282471 2.14057385]]\n",
      "261 loss:  [0.031545] , weights:  [[2.95316493 2.13980045]]\n",
      "262 loss:  [0.03147489] , weights:  [[2.9535027  2.13903263]]\n",
      "263 loss:  [0.03140579] , weights:  [[2.95383802 2.13827035]]\n",
      "264 loss:  [0.03133768] , weights:  [[2.95417094 2.13751357]]\n",
      "265 loss:  [0.03127055] , weights:  [[2.95450144 2.13676224]]\n",
      "266 loss:  [0.03120439] , weights:  [[2.95482957 2.13601633]]\n",
      "267 loss:  [0.03113917] , weights:  [[2.95515533 2.13527581]]\n",
      "268 loss:  [0.0310749] , weights:  [[2.95547874 2.13454062]]\n",
      "269 loss:  [0.03101154] , weights:  [[2.95579985 2.13381064]]\n",
      "270 loss:  [0.03094909] , weights:  [[2.95611862 2.13308602]]\n",
      "271 loss:  [0.03088755] , weights:  [[2.95643508 2.13236668]]\n",
      "272 loss:  [0.03082689] , weights:  [[2.95674926 2.13165247]]\n",
      "273 loss:  [0.0307671] , weights:  [[2.95706117 2.13094341]]\n",
      "274 loss:  [0.03070817] , weights:  [[2.95737083 2.13023946]]\n",
      "275 loss:  [0.03065008] , weights:  [[2.95767823 2.12954051]]\n",
      "276 loss:  [0.03059283] , weights:  [[2.95798343 2.1288466 ]]\n",
      "277 loss:  [0.03053641] , weights:  [[2.95828648 2.12815783]]\n",
      "278 loss:  [0.0304808] , weights:  [[2.95858729 2.127474  ]]\n",
      "279 loss:  [0.03042597] , weights:  [[2.958886 2.126795]]\n",
      "280 loss:  [0.03037195] , weights:  [[2.95918249 2.12612107]]\n",
      "281 loss:  [0.0303187] , weights:  [[2.9594769  2.12545189]]\n",
      "282 loss:  [0.03026622] , weights:  [[2.95976914 2.12478755]]\n",
      "283 loss:  [0.03021449] , weights:  [[2.96005924 2.124128  ]]\n",
      "284 loss:  [0.03016349] , weights:  [[2.96034733 2.12347312]]\n",
      "285 loss:  [0.03011323] , weights:  [[2.9606333  2.12282301]]\n",
      "286 loss:  [0.0300637] , weights:  [[2.96091722 2.12217763]]\n",
      "287 loss:  [0.03001488] , weights:  [[2.96119908 2.12153685]]\n",
      "288 loss:  [0.02996675] , weights:  [[2.96147895 2.12090067]]\n",
      "289 loss:  [0.02991932] , weights:  [[2.9617568  2.12026915]]\n",
      "290 loss:  [0.02987258] , weights:  [[2.9620326  2.11964219]]\n",
      "291 loss:  [0.0298265] , weights:  [[2.96230637 2.11901975]]\n",
      "292 loss:  [0.0297811] , weights:  [[2.96257825 2.11840188]]\n",
      "293 loss:  [0.02973634] , weights:  [[2.96284808 2.11778838]]\n",
      "294 loss:  [0.02969222] , weights:  [[2.96311601 2.11717927]]\n",
      "295 loss:  [0.02964874] , weights:  [[2.96338202 2.11657456]]\n",
      "296 loss:  [0.02960588] , weights:  [[2.96364607 2.11597425]]\n",
      "297 loss:  [0.02956364] , weights:  [[2.9639083  2.11537826]]\n",
      "298 loss:  [0.02952201] , weights:  [[2.96416861 2.11478666]]\n",
      "299 loss:  [0.02948097] , weights:  [[2.96442697 2.11419922]]\n",
      "300 loss:  [0.02944053] , weights:  [[2.96468355 2.11361603]]\n",
      "301 loss:  [0.02940066] , weights:  [[2.96493823 2.11303705]]\n",
      "302 loss:  [0.02936137] , weights:  [[2.96519108 2.11246229]]\n",
      "303 loss:  [0.02932265] , weights:  [[2.9654421  2.11189167]]\n",
      "304 loss:  [0.02928448] , weights:  [[2.96569128 2.1113252 ]]\n",
      "305 loss:  [0.02924686] , weights:  [[2.9659387  2.11076273]]\n",
      "306 loss:  [0.02920978] , weights:  [[2.96618433 2.11020433]]\n",
      "307 loss:  [0.02917323] , weights:  [[2.9664282 2.10965  ]]\n",
      "308 loss:  [0.02913721] , weights:  [[2.96667027 2.10909953]]\n",
      "309 loss:  [0.0291017] , weights:  [[2.96691069 2.10855313]]\n",
      "310 loss:  [0.0290667] , weights:  [[2.96714935 2.10801066]]\n",
      "311 loss:  [0.02903221] , weights:  [[2.96738629 2.10747209]]\n",
      "312 loss:  [0.02899822] , weights:  [[2.96762147 2.10693746]]\n",
      "313 loss:  [0.02896471] , weights:  [[2.96785493 2.10640672]]\n",
      "314 loss:  [0.02893169] , weights:  [[2.96808675 2.10587978]]\n",
      "315 loss:  [0.02889913] , weights:  [[2.96831685 2.1053565 ]]\n",
      "316 loss:  [0.02886706] , weights:  [[2.96854532 2.10483717]]\n",
      "317 loss:  [0.02883544] , weights:  [[2.96877214 2.10432158]]\n",
      "318 loss:  [0.02880426] , weights:  [[2.96899738 2.10380955]]\n",
      "319 loss:  [0.02877355] , weights:  [[2.96922094 2.10330137]]\n",
      "320 loss:  [0.02874327] , weights:  [[2.96944291 2.10279678]]\n",
      "321 loss:  [0.02871343] , weights:  [[2.96966328 2.10229585]]\n",
      "322 loss:  [0.02868401] , weights:  [[2.96988206 2.10179848]]\n",
      "323 loss:  [0.02865502] , weights:  [[2.97009927 2.10130472]]\n",
      "324 loss:  [0.02862644] , weights:  [[2.97031491 2.10081452]]\n",
      "325 loss:  [0.02859828] , weights:  [[2.97052899 2.10032786]]\n",
      "326 loss:  [0.02857052] , weights:  [[2.97074153 2.09984471]]\n",
      "327 loss:  [0.02854315] , weights:  [[2.9709525  2.09936497]]\n",
      "328 loss:  [0.02851619] , weights:  [[2.97116201 2.09888882]]\n",
      "329 loss:  [0.0284896] , weights:  [[2.97136996 2.09841597]]\n",
      "330 loss:  [0.02846341] , weights:  [[2.97157645 2.09794666]]\n",
      "331 loss:  [0.02843758] , weights:  [[2.97178148 2.09748069]]\n",
      "332 loss:  [0.02841213] , weights:  [[2.97198498 2.09701812]]\n",
      "333 loss:  [0.02838705] , weights:  [[2.97218701 2.09655884]]\n",
      "334 loss:  [0.02836233] , weights:  [[2.97238759 2.09610286]]\n",
      "335 loss:  [0.02833795] , weights:  [[2.97258672 2.09565013]]\n",
      "336 loss:  [0.02831393] , weights:  [[2.97278442 2.09520072]]\n",
      "337 loss:  [0.02829026] , weights:  [[2.97298067 2.09475446]]\n",
      "338 loss:  [0.02826692] , weights:  [[2.97317558 2.09431143]]\n",
      "339 loss:  [0.02824392] , weights:  [[2.97336907 2.0938716 ]]\n",
      "340 loss:  [0.02822125] , weights:  [[2.97356114 2.09343504]]\n",
      "341 loss:  [0.02819891] , weights:  [[2.97375185 2.09300158]]\n",
      "342 loss:  [0.02817689] , weights:  [[2.97394114 2.09257127]]\n",
      "343 loss:  [0.02815518] , weights:  [[2.97412907 2.09214401]]\n",
      "344 loss:  [0.02813379] , weights:  [[2.97431565 2.09171988]]\n",
      "345 loss:  [0.02811271] , weights:  [[2.97450088 2.09129884]]\n",
      "346 loss:  [0.02809192] , weights:  [[2.9746848 2.0908808]]\n",
      "347 loss:  [0.02807144] , weights:  [[2.97486733 2.09046586]]\n",
      "348 loss:  [0.02805125] , weights:  [[2.97504861 2.09005382]]\n",
      "349 loss:  [0.02803136] , weights:  [[2.97522854 2.08964481]]\n",
      "350 loss:  [0.02801174] , weights:  [[2.9754072  2.08923862]]\n",
      "351 loss:  [0.02799241] , weights:  [[2.97558455 2.08883547]]\n",
      "352 loss:  [0.02797336] , weights:  [[2.97576065 2.08843517]]\n",
      "353 loss:  [0.02795457] , weights:  [[2.97593542 2.08803771]]\n",
      "354 loss:  [0.02793606] , weights:  [[2.97610898 2.08764316]]\n",
      "355 loss:  [0.02791782] , weights:  [[2.97628131 2.08725142]]\n",
      "356 loss:  [0.02789983] , weights:  [[2.97645241 2.08686249]]\n",
      "357 loss:  [0.02788211] , weights:  [[2.97662226 2.08647654]]\n",
      "358 loss:  [0.02786464] , weights:  [[2.97679084 2.08609322]]\n",
      "359 loss:  [0.02784742] , weights:  [[2.97695819 2.08571265]]\n",
      "360 loss:  [0.02783045] , weights:  [[2.97712438 2.08533491]]\n",
      "361 loss:  [0.02781373] , weights:  [[2.97728934 2.08495991]]\n",
      "362 loss:  [0.02779725] , weights:  [[2.97745313 2.08458759]]\n",
      "363 loss:  [0.027781] , weights:  [[2.97761574 2.08421801]]\n",
      "364 loss:  [0.02776499] , weights:  [[2.97777718 2.08385109]]\n",
      "365 loss:  [0.0277492] , weights:  [[2.97793744 2.08348673]]\n",
      "366 loss:  [0.02773364] , weights:  [[2.97809658 2.08312496]]\n",
      "367 loss:  [0.0277183] , weights:  [[2.97825457 2.08276587]]\n",
      "368 loss:  [0.02770319] , weights:  [[2.97841138 2.08240937]]\n",
      "369 loss:  [0.02768829] , weights:  [[2.9785671  2.08205542]]\n",
      "370 loss:  [0.02767361] , weights:  [[2.97872166 2.08170402]]\n",
      "371 loss:  [0.02765914] , weights:  [[2.97887512 2.08135522]]\n",
      "372 loss:  [0.02764488] , weights:  [[2.97902746 2.08100885]]\n",
      "373 loss:  [0.02763082] , weights:  [[2.97917868 2.08066502]]\n",
      "374 loss:  [0.02761696] , weights:  [[2.97932882 2.0803237 ]]\n",
      "375 loss:  [0.0276033] , weights:  [[2.97947793 2.07998482]]\n",
      "376 loss:  [0.02758984] , weights:  [[2.97962593 2.07964835]]\n",
      "377 loss:  [0.02757658] , weights:  [[2.97977284 2.07931442]]\n",
      "378 loss:  [0.0275635] , weights:  [[2.97991872 2.07898281]]\n",
      "379 loss:  [0.02755061] , weights:  [[2.98006354 2.07865355]]\n",
      "380 loss:  [0.02753791] , weights:  [[2.98020732 2.07832671]]\n",
      "381 loss:  [0.02752538] , weights:  [[2.9803501  2.07800221]]\n",
      "382 loss:  [0.02751305] , weights:  [[2.98049178 2.07768014]]\n",
      "383 loss:  [0.02750088] , weights:  [[2.98063249 2.0773604 ]]\n",
      "384 loss:  [0.0274889] , weights:  [[2.98077214 2.07704288]]\n",
      "385 loss:  [0.02747708] , weights:  [[2.98091077 2.07672767]]\n",
      "386 loss:  [0.02746543] , weights:  [[2.98104844 2.07641474]]\n",
      "387 loss:  [0.02745395] , weights:  [[2.9811851  2.07610405]]\n",
      "388 loss:  [0.02744264] , weights:  [[2.98132079 2.07579559]]\n",
      "389 loss:  [0.02743149] , weights:  [[2.9814555  2.07548936]]\n",
      "390 loss:  [0.0274205] , weights:  [[2.98158923 2.07518534]]\n",
      "391 loss:  [0.02740966] , weights:  [[2.98172201 2.07488351]]\n",
      "392 loss:  [0.02739898] , weights:  [[2.98185385 2.07458378]]\n",
      "393 loss:  [0.02738846] , weights:  [[2.98198469 2.07428637]]\n",
      "394 loss:  [0.02737809] , weights:  [[2.98211461 2.07399107]]\n",
      "395 loss:  [0.02736786] , weights:  [[2.98224357 2.07369785]]\n",
      "396 loss:  [0.02735779] , weights:  [[2.9823716  2.07340676]]\n",
      "397 loss:  [0.02734786] , weights:  [[2.98249871 2.07311776]]\n",
      "398 loss:  [0.02733806] , weights:  [[2.98262494 2.0728308 ]]\n",
      "399 loss:  [0.02732841] , weights:  [[2.98275026 2.07254593]]\n",
      "400 loss:  [0.0273189] , weights:  [[2.98287465 2.07226316]]\n",
      "401 loss:  [0.02730953] , weights:  [[2.98299814 2.07198234]]\n",
      "402 loss:  [0.02730029] , weights:  [[2.98312078 2.07170359]]\n",
      "403 loss:  [0.02729119] , weights:  [[2.98324256 2.07142696]]\n",
      "404 loss:  [0.02728221] , weights:  [[2.98336343 2.07115222]]\n",
      "405 loss:  [0.02727336] , weights:  [[2.98348338 2.07087939]]\n",
      "406 loss:  [0.02726464] , weights:  [[2.98360251 2.07060867]]\n",
      "407 loss:  [0.02725605] , weights:  [[2.98372079 2.07033985]]\n",
      "408 loss:  [0.02724758] , weights:  [[2.98383816 2.07007289]]\n",
      "409 loss:  [0.02723923] , weights:  [[2.9839547  2.06980802]]\n",
      "410 loss:  [0.027231] , weights:  [[2.98407039 2.06954505]]\n",
      "411 loss:  [0.02722289] , weights:  [[2.98418525 2.06928392]]\n",
      "412 loss:  [0.0272149] , weights:  [[2.98429928 2.06902458]]\n",
      "413 loss:  [0.02720702] , weights:  [[2.98441253 2.06876714]]\n",
      "414 loss:  [0.02719925] , weights:  [[2.98452497 2.06851166]]\n"
     ]
    },
    {
     "name": "stdout",
     "output_type": "stream",
     "text": [
      "415 loss:  [0.0271916] , weights:  [[2.98463655 2.06825804]]\n",
      "416 loss:  [0.02718406] , weights:  [[2.98474735 2.06800614]]\n",
      "417 loss:  [0.02717662] , weights:  [[2.98485736 2.06775606]]\n",
      "418 loss:  [0.02716929] , weights:  [[2.98496654 2.06750782]]\n",
      "419 loss:  [0.02716207] , weights:  [[2.98507497 2.06726133]]\n",
      "420 loss:  [0.02715495] , weights:  [[2.98518259 2.06701668]]\n",
      "421 loss:  [0.02714793] , weights:  [[2.98528949 2.06677384]]\n",
      "422 loss:  [0.02714102] , weights:  [[2.9853956  2.06653265]]\n",
      "423 loss:  [0.0271342] , weights:  [[2.98550089 2.06629322]]\n",
      "424 loss:  [0.02712748] , weights:  [[2.98560545 2.06605552]]\n",
      "425 loss:  [0.02712086] , weights:  [[2.98570926 2.06581953]]\n",
      "426 loss:  [0.02711433] , weights:  [[2.9858123  2.06558518]]\n",
      "427 loss:  [0.02710789] , weights:  [[2.98591466 2.06535257]]\n",
      "428 loss:  [0.02710155] , weights:  [[2.98601625 2.06512168]]\n",
      "429 loss:  [0.02709531] , weights:  [[2.98611712 2.06489251]]\n",
      "430 loss:  [0.02708915] , weights:  [[2.98621723 2.06466495]]\n",
      "431 loss:  [0.02708307] , weights:  [[2.98631661 2.06443896]]\n",
      "432 loss:  [0.02707709] , weights:  [[2.98641529 2.06421463]]\n",
      "433 loss:  [0.02707119] , weights:  [[2.98651325 2.06399192]]\n",
      "434 loss:  [0.02706538] , weights:  [[2.98661051 2.06377086]]\n",
      "435 loss:  [0.02705965] , weights:  [[2.98670704 2.06355137]]\n",
      "436 loss:  [0.027054] , weights:  [[2.9868029  2.06333342]]\n",
      "437 loss:  [0.02704843] , weights:  [[2.98689811 2.06311704]]\n",
      "438 loss:  [0.02704295] , weights:  [[2.98699256 2.06290227]]\n",
      "439 loss:  [0.02703754] , weights:  [[2.98708637 2.06268907]]\n",
      "440 loss:  [0.02703221] , weights:  [[2.98717953 2.06247736]]\n",
      "441 loss:  [0.02702696] , weights:  [[2.987272   2.06226716]]\n",
      "442 loss:  [0.02702178] , weights:  [[2.98736378 2.06205846]]\n",
      "443 loss:  [0.02701668] , weights:  [[2.98745494 2.06185137]]\n",
      "444 loss:  [0.02701164] , weights:  [[2.98754539 2.06164567]]\n",
      "445 loss:  [0.02700669] , weights:  [[2.9876352  2.06144146]]\n",
      "446 loss:  [0.0270018] , weights:  [[2.98772434 2.06123877]]\n",
      "447 loss:  [0.02699698] , weights:  [[2.98781285 2.06103754]]\n",
      "448 loss:  [0.02699224] , weights:  [[2.98790072 2.06083782]]\n",
      "449 loss:  [0.02698756] , weights:  [[2.98798798 2.06063947]]\n",
      "450 loss:  [0.02698295] , weights:  [[2.98807461 2.06044252]]\n",
      "451 loss:  [0.0269784] , weights:  [[2.98816062 2.06024704]]\n",
      "452 loss:  [0.02697392] , weights:  [[2.988246   2.06005294]]\n",
      "453 loss:  [0.02696951] , weights:  [[2.98833077 2.05986025]]\n",
      "454 loss:  [0.02696515] , weights:  [[2.98841492 2.05966894]]\n",
      "455 loss:  [0.02696086] , weights:  [[2.98849847 2.05947899]]\n",
      "456 loss:  [0.02695664] , weights:  [[2.98858142 2.05929043]]\n",
      "457 loss:  [0.02695247] , weights:  [[2.98866377 2.05910328]]\n",
      "458 loss:  [0.02694836] , weights:  [[2.98874552 2.05891748]]\n",
      "459 loss:  [0.02694432] , weights:  [[2.98882668 2.05873297]]\n",
      "460 loss:  [0.02694033] , weights:  [[2.98890723 2.05854981]]\n",
      "461 loss:  [0.02693639] , weights:  [[2.98898722 2.05836791]]\n",
      "462 loss:  [0.02693252] , weights:  [[2.98906665 2.05818737]]\n",
      "463 loss:  [0.0269287] , weights:  [[2.98914551 2.05800817]]\n",
      "464 loss:  [0.02692493] , weights:  [[2.98922378 2.05783018]]\n",
      "465 loss:  [0.02692122] , weights:  [[2.98930153 2.05765359]]\n",
      "466 loss:  [0.02691756] , weights:  [[2.9893787  2.05747826]]\n",
      "467 loss:  [0.02691395] , weights:  [[2.9894553  2.05730405]]\n",
      "468 loss:  [0.0269104] , weights:  [[2.98953133 2.05713117]]\n",
      "469 loss:  [0.0269069] , weights:  [[2.98960682 2.05695954]]\n",
      "470 loss:  [0.02690345] , weights:  [[2.98968179 2.05678922]]\n",
      "471 loss:  [0.02690004] , weights:  [[2.98975618 2.05662008]]\n",
      "472 loss:  [0.02689669] , weights:  [[2.98983004 2.05645209]]\n",
      "473 loss:  [0.02689338] , weights:  [[2.98990335 2.05628543]]\n",
      "474 loss:  [0.02689013] , weights:  [[2.98997616 2.05611993]]\n",
      "475 loss:  [0.02688691] , weights:  [[2.99004844 2.05595559]]\n",
      "476 loss:  [0.02688375] , weights:  [[2.99012021 2.05579244]]\n",
      "477 loss:  [0.02688063] , weights:  [[2.99019148 2.0556304 ]]\n",
      "478 loss:  [0.02687755] , weights:  [[2.99026219 2.0554696 ]]\n",
      "479 loss:  [0.02687452] , weights:  [[2.99033243 2.05531001]]\n",
      "480 loss:  [0.02687154] , weights:  [[2.99040217 2.05515151]]\n",
      "481 loss:  [0.02686859] , weights:  [[2.99047141 2.05499409]]\n",
      "482 loss:  [0.02686569] , weights:  [[2.99054012 2.05483787]]\n",
      "483 loss:  [0.02686283] , weights:  [[2.99060832 2.05468281]]\n",
      "484 loss:  [0.02686001] , weights:  [[2.99067605 2.05452887]]\n",
      "485 loss:  [0.02685723] , weights:  [[2.99074332 2.05437593]]\n",
      "486 loss:  [0.02685449] , weights:  [[2.9908101  2.05422416]]\n",
      "487 loss:  [0.02685179] , weights:  [[2.99087638 2.0540735 ]]\n",
      "488 loss:  [0.02684913] , weights:  [[2.99094215 2.05392392]]\n",
      "489 loss:  [0.02684651] , weights:  [[2.99100747 2.05377543]]\n",
      "490 loss:  [0.02684392] , weights:  [[2.99107233 2.05362796]]\n",
      "491 loss:  [0.02684137] , weights:  [[2.99113675 2.05348153]]\n",
      "492 loss:  [0.02683886] , weights:  [[2.99120065 2.05333622]]\n",
      "493 loss:  [0.02683639] , weights:  [[2.99126412 2.05319202]]\n",
      "494 loss:  [0.02683395] , weights:  [[2.99132712 2.05304881]]\n",
      "495 loss:  [0.02683155] , weights:  [[2.99138965 2.05290662]]\n",
      "496 loss:  [0.02682918] , weights:  [[2.99145175 2.05276547]]\n",
      "497 loss:  [0.02682684] , weights:  [[2.99151338 2.05262525]]\n",
      "498 loss:  [0.02682454] , weights:  [[2.99157463 2.05248611]]\n",
      "499 loss:  [0.02682227] , weights:  [[2.9916354  2.05234799]]\n",
      "500 loss:  [0.02682003] , weights:  [[2.99169575 2.05221094]]\n",
      "501 loss:  [0.02681783] , weights:  [[2.99175566 2.05207477]]\n",
      "502 loss:  [0.02681566] , weights:  [[2.99181513 2.05193958]]\n",
      "503 loss:  [0.02681351] , weights:  [[2.99187417 2.05180532]]\n",
      "504 loss:  [0.0268114] , weights:  [[2.99193276 2.05167212]]\n",
      "505 loss:  [0.02680932] , weights:  [[2.99199093 2.05153986]]\n",
      "506 loss:  [0.02680727] , weights:  [[2.99204869 2.05140861]]\n",
      "507 loss:  [0.02680525] , weights:  [[2.99210602 2.05127825]]\n",
      "508 loss:  [0.02680326] , weights:  [[2.99216295 2.05114878]]\n",
      "509 loss:  [0.0268013] , weights:  [[2.99221949 2.05102023]]\n",
      "510 loss:  [0.02679936] , weights:  [[2.99227561 2.05089272]]\n",
      "511 loss:  [0.02679746] , weights:  [[2.99233128 2.05076601]]\n",
      "512 loss:  [0.02679558] , weights:  [[2.9923866  2.05064027]]\n",
      "513 loss:  [0.02679372] , weights:  [[2.99244155 2.05051539]]\n",
      "514 loss:  [0.0267919] , weights:  [[2.99249607 2.05039151]]\n",
      "515 loss:  [0.0267901] , weights:  [[2.99255016 2.05026856]]\n",
      "516 loss:  [0.02678832] , weights:  [[2.99260386 2.05014643]]\n",
      "517 loss:  [0.02678657] , weights:  [[2.99265724 2.05002518]]\n",
      "518 loss:  [0.02678485] , weights:  [[2.99271019 2.04990483]]\n",
      "519 loss:  [0.02678315] , weights:  [[2.99276276 2.04978531]]\n",
      "520 loss:  [0.02678148] , weights:  [[2.99281492 2.04966674]]\n",
      "521 loss:  [0.02677983] , weights:  [[2.99286674 2.04954894]]\n",
      "522 loss:  [0.0267782] , weights:  [[2.9929182  2.04943192]]\n",
      "523 loss:  [0.0267766] , weights:  [[2.99296925 2.04931582]]\n",
      "524 loss:  [0.02677502] , weights:  [[2.99301996 2.04920054]]\n",
      "525 loss:  [0.02677346] , weights:  [[2.99307028 2.04908611]]\n",
      "526 loss:  [0.02677193] , weights:  [[2.99312027 2.04897254]]\n",
      "527 loss:  [0.02677042] , weights:  [[2.99316986 2.04885975]]\n",
      "528 loss:  [0.02676892] , weights:  [[2.99321916 2.04874778]]\n",
      "529 loss:  [0.02676746] , weights:  [[2.99326806 2.04863667]]\n",
      "530 loss:  [0.02676601] , weights:  [[2.9933166  2.04852632]]\n",
      "531 loss:  [0.02676458] , weights:  [[2.99336479 2.04841675]]\n",
      "532 loss:  [0.02676317] , weights:  [[2.99341267 2.04830805]]\n",
      "533 loss:  [0.02676179] , weights:  [[2.99346013 2.04819997]]\n",
      "534 loss:  [0.02676042] , weights:  [[2.99350732 2.04809276]]\n",
      "535 loss:  [0.02675907] , weights:  [[2.99355414 2.04798631]]\n",
      "536 loss:  [0.02675774] , weights:  [[2.99360062 2.04788064]]\n",
      "537 loss:  [0.02675643] , weights:  [[2.99364677 2.04777572]]\n",
      "538 loss:  [0.02675514] , weights:  [[2.99369262 2.04767154]]\n",
      "539 loss:  [0.02675387] , weights:  [[2.99373812 2.04756806]]\n",
      "540 loss:  [0.02675262] , weights:  [[2.99378328 2.04746543]]\n",
      "541 loss:  [0.02675138] , weights:  [[2.99382811 2.04736351]]\n",
      "542 loss:  [0.02675017] , weights:  [[2.99387262 2.04726233]]\n",
      "543 loss:  [0.02674897] , weights:  [[2.99391681 2.04716187]]\n",
      "544 loss:  [0.02674778] , weights:  [[2.99396068 2.04706217]]\n",
      "545 loss:  [0.02674662] , weights:  [[2.99400423 2.04696316]]\n",
      "546 loss:  [0.02674547] , weights:  [[2.99404744 2.04686493]]\n",
      "547 loss:  [0.02674434] , weights:  [[2.99409036 2.0467673 ]]\n",
      "548 loss:  [0.02674322] , weights:  [[2.99413296 2.04667049]]\n",
      "549 loss:  [0.02674212] , weights:  [[2.99417527 2.04657428]]\n",
      "550 loss:  [0.02674104] , weights:  [[2.99421728 2.04647879]]\n",
      "551 loss:  [0.02673997] , weights:  [[2.99425896 2.04638406]]\n",
      "552 loss:  [0.02673891] , weights:  [[2.99430037 2.04628994]]\n",
      "553 loss:  [0.02673788] , weights:  [[2.99434147 2.04619653]]\n",
      "554 loss:  [0.02673685] , weights:  [[2.99438228 2.04610376]]\n",
      "555 loss:  [0.02673584] , weights:  [[2.99442279 2.04601166]]\n",
      "556 loss:  [0.02673485] , weights:  [[2.99446303 2.04592023]]\n",
      "557 loss:  [0.02673387] , weights:  [[2.99450298 2.04582937]]\n",
      "558 loss:  [0.0267329] , weights:  [[2.99454262 2.04573925]]\n",
      "559 loss:  [0.02673195] , weights:  [[2.99458198 2.04564978]]\n",
      "560 loss:  [0.02673101] , weights:  [[2.99462107 2.04556094]]\n",
      "561 loss:  [0.02673009] , weights:  [[2.99465984 2.04547268]]\n",
      "562 loss:  [0.02672918] , weights:  [[2.99469836 2.04538516]]\n",
      "563 loss:  [0.02672828] , weights:  [[2.9947366 2.0452982]]\n",
      "564 loss:  [0.02672739] , weights:  [[2.99477457 2.04521194]]\n",
      "565 loss:  [0.02672652] , weights:  [[2.99481226 2.04512628]]\n",
      "566 loss:  [0.02672566] , weights:  [[2.99484965 2.04504125]]\n",
      "567 loss:  [0.02672481] , weights:  [[2.99488679 2.04495677]]\n",
      "568 loss:  [0.02672398] , weights:  [[2.9949237  2.04487293]]\n",
      "569 loss:  [0.02672315] , weights:  [[2.99496029 2.04478973]]\n",
      "570 loss:  [0.02672234] , weights:  [[2.99499664 2.04470706]]\n",
      "571 loss:  [0.02672154] , weights:  [[2.99503276 2.04462504]]\n",
      "572 loss:  [0.02672075] , weights:  [[2.99506858 2.04454363]]\n",
      "573 loss:  [0.02671997] , weights:  [[2.99510417 2.04446279]]\n",
      "574 loss:  [0.02671921] , weights:  [[2.99513947 2.04438249]]\n",
      "575 loss:  [0.02671845] , weights:  [[2.99517449 2.04430281]]\n",
      "576 loss:  [0.02671771] , weights:  [[2.99520927 2.04422377]]\n",
      "577 loss:  [0.02671698] , weights:  [[2.9952438  2.04414524]]\n",
      "578 loss:  [0.02671625] , weights:  [[2.99527811 2.04406724]]\n",
      "579 loss:  [0.02671554] , weights:  [[2.99531214 2.04398976]]\n",
      "580 loss:  [0.02671484] , weights:  [[2.99534597 2.04391287]]\n",
      "581 loss:  [0.02671414] , weights:  [[2.99537955 2.04383656]]\n",
      "582 loss:  [0.02671346] , weights:  [[2.99541289 2.04376084]]\n",
      "583 loss:  [0.02671279] , weights:  [[2.99544598 2.04368569]]\n",
      "584 loss:  [0.02671213] , weights:  [[2.99547882 2.04361103]]\n",
      "585 loss:  [0.02671147] , weights:  [[2.99551143 2.04353691]]\n",
      "586 loss:  [0.02671083] , weights:  [[2.9955438  2.04346328]]\n",
      "587 loss:  [0.02671019] , weights:  [[2.99557594 2.04339018]]\n",
      "588 loss:  [0.02670957] , weights:  [[2.99560786 2.04331763]]\n",
      "589 loss:  [0.02670895] , weights:  [[2.99563957 2.04324563]]\n",
      "590 loss:  [0.02670834] , weights:  [[2.99567101 2.04317414]]\n",
      "591 loss:  [0.02670775] , weights:  [[2.99570223 2.04310322]]\n",
      "592 loss:  [0.02670716] , weights:  [[2.99573322 2.04303281]]\n",
      "593 loss:  [0.02670657] , weights:  [[2.99576396 2.04296292]]\n",
      "594 loss:  [0.026706] , weights:  [[2.99579447 2.04289347]]\n",
      "595 loss:  [0.02670544] , weights:  [[2.9958248  2.04282453]]\n",
      "596 loss:  [0.02670488] , weights:  [[2.99585492 2.04275613]]\n",
      "597 loss:  [0.02670433] , weights:  [[2.9958848  2.04268812]]\n",
      "598 loss:  [0.02670379] , weights:  [[2.99591446 2.04262068]]\n",
      "599 loss:  [0.02670325] , weights:  [[2.99594393 2.04255371]]\n",
      "600 loss:  [0.02670273] , weights:  [[2.99597318 2.04248721]]\n",
      "601 loss:  [0.02670221] , weights:  [[2.99600223 2.04242117]]\n",
      "602 loss:  [0.0267017] , weights:  [[2.99603106 2.04235564]]\n",
      "603 loss:  [0.0267012] , weights:  [[2.99605971 2.04229055]]\n",
      "604 loss:  [0.0267007] , weights:  [[2.99608813 2.0422259 ]]\n",
      "605 loss:  [0.02670021] , weights:  [[2.99611634 2.04216177]]\n",
      "606 loss:  [0.02669973] , weights:  [[2.99614438 2.04209818]]\n",
      "607 loss:  [0.02669925] , weights:  [[2.99617217 2.04203491]]\n",
      "608 loss:  [0.02669878] , weights:  [[2.99619975 2.04197218]]\n"
     ]
    },
    {
     "name": "stdout",
     "output_type": "stream",
     "text": [
      "609 loss:  [0.02669832] , weights:  [[2.99622716 2.04190985]]\n",
      "610 loss:  [0.02669787] , weights:  [[2.99625437 2.041848  ]]\n",
      "611 loss:  [0.02669742] , weights:  [[2.99628136 2.04178653]]\n",
      "612 loss:  [0.02669698] , weights:  [[2.9963082  2.04172555]]\n",
      "613 loss:  [0.02669654] , weights:  [[2.99633484 2.04166503]]\n",
      "614 loss:  [0.02669611] , weights:  [[2.99636128 2.04160495]]\n",
      "615 loss:  [0.02669569] , weights:  [[2.99638755 2.0415453 ]]\n",
      "616 loss:  [0.02669527] , weights:  [[2.9964136 2.0414861]]\n",
      "617 loss:  [0.02669486] , weights:  [[2.99643944 2.0414273 ]]\n",
      "618 loss:  [0.02669446] , weights:  [[2.99646514 2.04136901]]\n",
      "619 loss:  [0.02669406] , weights:  [[2.99649065 2.04131112]]\n",
      "620 loss:  [0.02669366] , weights:  [[2.99651591 2.0412535 ]]\n",
      "621 loss:  [0.02669328] , weights:  [[2.99654101 2.04119641]]\n",
      "622 loss:  [0.02669289] , weights:  [[2.99656596 2.04113965]]\n",
      "623 loss:  [0.02669252] , weights:  [[2.99659075 2.04108329]]\n",
      "624 loss:  [0.02669214] , weights:  [[2.99661535 2.04102737]]\n",
      "625 loss:  [0.02669178] , weights:  [[2.99663977 2.04097194]]\n",
      "626 loss:  [0.02669142] , weights:  [[2.996664   2.04091685]]\n",
      "627 loss:  [0.02669106] , weights:  [[2.99668808 2.04086223]]\n",
      "628 loss:  [0.02669071] , weights:  [[2.99671193 2.04080795]]\n",
      "629 loss:  [0.02669037] , weights:  [[2.99673566 2.04075412]]\n",
      "630 loss:  [0.02669003] , weights:  [[2.9967592  2.04070066]]\n",
      "631 loss:  [0.02668969] , weights:  [[2.99678255 2.04064749]]\n",
      "632 loss:  [0.02668936] , weights:  [[2.99680576 2.04059471]]\n",
      "633 loss:  [0.02668903] , weights:  [[2.99682878 2.04054236]]\n",
      "634 loss:  [0.02668871] , weights:  [[2.99685164 2.04049032]]\n",
      "635 loss:  [0.02668839] , weights:  [[2.99687434 2.04043871]]\n",
      "636 loss:  [0.02668808] , weights:  [[2.99689688 2.04038746]]\n",
      "637 loss:  [0.02668777] , weights:  [[2.99691923 2.04033661]]\n",
      "638 loss:  [0.02668747] , weights:  [[2.99694143 2.04028618]]\n",
      "639 loss:  [0.02668717] , weights:  [[2.99696351 2.04023611]]\n",
      "640 loss:  [0.02668688] , weights:  [[2.9969854  2.04018635]]\n",
      "641 loss:  [0.02668659] , weights:  [[2.99700715 2.04013692]]\n",
      "642 loss:  [0.0266863] , weights:  [[2.99702872 2.04008784]]\n",
      "643 loss:  [0.02668602] , weights:  [[2.99705013 2.04003913]]\n",
      "644 loss:  [0.02668574] , weights:  [[2.9970714  2.03999076]]\n",
      "645 loss:  [0.02668547] , weights:  [[2.99709254 2.03994273]]\n",
      "646 loss:  [0.0266852] , weights:  [[2.99711348 2.03989506]]\n",
      "647 loss:  [0.02668493] , weights:  [[2.9971343  2.03984769]]\n",
      "648 loss:  [0.02668467] , weights:  [[2.99715497 2.03980071]]\n",
      "649 loss:  [0.02668441] , weights:  [[2.99717552 2.03975415]]\n",
      "650 loss:  [0.02668415] , weights:  [[2.99719588 2.03970779]]\n",
      "651 loss:  [0.0266839] , weights:  [[2.99721607 2.03966181]]\n",
      "652 loss:  [0.02668366] , weights:  [[2.99723615 2.03961615]]\n",
      "653 loss:  [0.02668341] , weights:  [[2.99725609 2.03957082]]\n",
      "654 loss:  [0.02668317] , weights:  [[2.99727591 2.03952582]]\n",
      "655 loss:  [0.02668293] , weights:  [[2.99729558 2.03948116]]\n",
      "656 loss:  [0.0266827] , weights:  [[2.99731508 2.03943682]]\n",
      "657 loss:  [0.02668247] , weights:  [[2.99733446 2.0393928 ]]\n",
      "658 loss:  [0.02668224] , weights:  [[2.99735368 2.0393491 ]]\n",
      "659 loss:  [0.02668202] , weights:  [[2.99737276 2.03930571]]\n",
      "660 loss:  [0.0266818] , weights:  [[2.99739168 2.03926266]]\n",
      "661 loss:  [0.02668158] , weights:  [[2.99741046 2.03921992]]\n",
      "662 loss:  [0.02668137] , weights:  [[2.99742914 2.03917747]]\n",
      "663 loss:  [0.02668115] , weights:  [[2.99744771 2.0391353 ]]\n",
      "664 loss:  [0.02668095] , weights:  [[2.99746614 2.03909339]]\n",
      "665 loss:  [0.02668074] , weights:  [[2.99748439 2.03905192]]\n",
      "666 loss:  [0.02668054] , weights:  [[2.99750251 2.03901061]]\n",
      "667 loss:  [0.02668034] , weights:  [[2.99752056 2.0389696 ]]\n",
      "668 loss:  [0.02668014] , weights:  [[2.99753845 2.03892891]]\n",
      "669 loss:  [0.02667995] , weights:  [[2.99755624 2.03888853]]\n",
      "670 loss:  [0.02667976] , weights:  [[2.99757387 2.03884847]]\n",
      "671 loss:  [0.02667957] , weights:  [[2.99759137 2.0388087 ]]\n",
      "672 loss:  [0.02667938] , weights:  [[2.99760872 2.03876929]]\n",
      "673 loss:  [0.0266792] , weights:  [[2.99762594 2.03873016]]\n",
      "674 loss:  [0.02667902] , weights:  [[2.99764308 2.03869121]]\n",
      "675 loss:  [0.02667884] , weights:  [[2.99766007 2.03865257]]\n",
      "676 loss:  [0.02667867] , weights:  [[2.99767692 2.03861421]]\n",
      "677 loss:  [0.0266785] , weights:  [[2.99769368 2.0385761 ]]\n",
      "678 loss:  [0.02667833] , weights:  [[2.99771032 2.03853832]]\n",
      "679 loss:  [0.02667816] , weights:  [[2.99772683 2.03850078]]\n",
      "680 loss:  [0.02667799] , weights:  [[2.9977432  2.03846354]]\n",
      "681 loss:  [0.02667783] , weights:  [[2.9977595  2.03842652]]\n",
      "682 loss:  [0.02667767] , weights:  [[2.99777564 2.03838971]]\n",
      "683 loss:  [0.02667751] , weights:  [[2.99779167 2.03835328]]\n",
      "684 loss:  [0.02667736] , weights:  [[2.99780758 2.03831708]]\n",
      "685 loss:  [0.0266772] , weights:  [[2.99782339 2.03828107]]\n",
      "686 loss:  [0.02667705] , weights:  [[2.99783911 2.03824543]]\n",
      "687 loss:  [0.0266769] , weights:  [[2.99785471 2.03820996]]\n",
      "688 loss:  [0.02667675] , weights:  [[2.99787019 2.03817477]]\n",
      "689 loss:  [0.02667661] , weights:  [[2.99788554 2.03813989]]\n",
      "690 loss:  [0.02667647] , weights:  [[2.99790078 2.03810516]]\n",
      "691 loss:  [0.02667633] , weights:  [[2.99791597 2.03807083]]\n",
      "692 loss:  [0.02667619] , weights:  [[2.99793097 2.03803659]]\n",
      "693 loss:  [0.02667605] , weights:  [[2.99794593 2.03800268]]\n",
      "694 loss:  [0.02667592] , weights:  [[2.99796075 2.03796903]]\n",
      "695 loss:  [0.02667578] , weights:  [[2.99797543 2.03793567]]\n",
      "696 loss:  [0.02667565] , weights:  [[2.99799006 2.0379024 ]]\n",
      "697 loss:  [0.02667552] , weights:  [[2.99800455 2.03786945]]\n",
      "698 loss:  [0.02667539] , weights:  [[2.99801894 2.03783674]]\n",
      "699 loss:  [0.02667527] , weights:  [[2.99803323 2.03780424]]\n",
      "700 loss:  [0.02667515] , weights:  [[2.99804744 2.03777192]]\n",
      "701 loss:  [0.02667502] , weights:  [[2.99806155 2.03773989]]\n",
      "702 loss:  [0.0266749] , weights:  [[2.99807553 2.03770811]]\n",
      "703 loss:  [0.02667478] , weights:  [[2.99808941 2.03767654]]\n",
      "704 loss:  [0.02667467] , weights:  [[2.99810319 2.03764519]]\n",
      "705 loss:  [0.02667455] , weights:  [[2.99811685 2.0376141 ]]\n",
      "706 loss:  [0.02667444] , weights:  [[2.99813041 2.0375833 ]]\n",
      "707 loss:  [0.02667433] , weights:  [[2.99814388 2.03755258]]\n",
      "708 loss:  [0.02667422] , weights:  [[2.99815728 2.03752221]]\n",
      "709 loss:  [0.02667411] , weights:  [[2.99817055 2.037492  ]]\n",
      "710 loss:  [0.026674] , weights:  [[2.99818378 2.03746209]]\n",
      "711 loss:  [0.0266739] , weights:  [[2.99819685 2.03743233]]\n",
      "712 loss:  [0.02667379] , weights:  [[2.99820985 2.0374028 ]]\n",
      "713 loss:  [0.02667369] , weights:  [[2.99822276 2.03737345]]\n",
      "714 loss:  [0.02667359] , weights:  [[2.9982356  2.03734438]]\n",
      "715 loss:  [0.02667349] , weights:  [[2.9982483  2.03731545]]\n",
      "716 loss:  [0.02667339] , weights:  [[2.99826093 2.0372867 ]]\n",
      "717 loss:  [0.0266733] , weights:  [[2.99827346 2.03725819]]\n",
      "718 loss:  [0.0266732] , weights:  [[2.99828589 2.03722995]]\n",
      "719 loss:  [0.02667311] , weights:  [[2.99829824 2.03720185]]\n",
      "720 loss:  [0.02667301] , weights:  [[2.99831054 2.03717388]]\n",
      "721 loss:  [0.02667292] , weights:  [[2.99832272 2.03714618]]\n",
      "722 loss:  [0.02667283] , weights:  [[2.99833479 2.03711875]]\n",
      "723 loss:  [0.02667274] , weights:  [[2.99834683 2.03709138]]\n",
      "724 loss:  [0.02667266] , weights:  [[2.99835872 2.03706435]]\n",
      "725 loss:  [0.02667257] , weights:  [[2.99837056 2.0370374 ]]\n",
      "726 loss:  [0.02667249] , weights:  [[2.99838229 2.03701061]]\n",
      "727 loss:  [0.0266724] , weights:  [[2.99839398 2.0369841 ]]\n",
      "728 loss:  [0.02667232] , weights:  [[2.99840555 2.0369578 ]]\n",
      "729 loss:  [0.02667224] , weights:  [[2.99841706 2.03693167]]\n",
      "730 loss:  [0.02667216] , weights:  [[2.99842848 2.03690572]]\n",
      "731 loss:  [0.02667208] , weights:  [[2.99843982 2.03687996]]\n",
      "732 loss:  [0.026672] , weights:  [[2.99845105 2.03685438]]\n",
      "733 loss:  [0.02667193] , weights:  [[2.99846223 2.03682895]]\n",
      "734 loss:  [0.02667185] , weights:  [[2.99847331 2.03680374]]\n",
      "735 loss:  [0.02667178] , weights:  [[2.99848433 2.0367787 ]]\n",
      "736 loss:  [0.0266717] , weights:  [[2.99849528 2.0367539 ]]\n",
      "737 loss:  [0.02667163] , weights:  [[2.99850611 2.03672931]]\n",
      "738 loss:  [0.02667156] , weights:  [[2.99851686 2.03670489]]\n",
      "739 loss:  [0.02667149] , weights:  [[2.99852755 2.03668057]]\n",
      "740 loss:  [0.02667142] , weights:  [[2.99853814 2.03665636]]\n",
      "741 loss:  [0.02667135] , weights:  [[2.99854872 2.03663233]]\n",
      "742 loss:  [0.02667128] , weights:  [[2.9985592  2.03660854]]\n",
      "743 loss:  [0.02667122] , weights:  [[2.9985696  2.03658493]]\n",
      "744 loss:  [0.02667115] , weights:  [[2.9985799  2.03656155]]\n",
      "745 loss:  [0.02667109] , weights:  [[2.99859014 2.03653832]]\n",
      "746 loss:  [0.02667102] , weights:  [[2.9986003 2.0365152]]\n",
      "747 loss:  [0.02667096] , weights:  [[2.99861039 2.03649225]]\n",
      "748 loss:  [0.0266709] , weights:  [[2.99862041 2.03646947]]\n",
      "749 loss:  [0.02667084] , weights:  [[2.99863036 2.0364469 ]]\n",
      "750 loss:  [0.02667078] , weights:  [[2.99864023 2.03642439]]\n",
      "751 loss:  [0.02667072] , weights:  [[2.99865004 2.03640215]]\n",
      "752 loss:  [0.02667066] , weights:  [[2.99865977 2.03638002]]\n",
      "753 loss:  [0.0266706] , weights:  [[2.99866946 2.03635802]]\n",
      "754 loss:  [0.02667055] , weights:  [[2.99867902 2.0363362 ]]\n",
      "755 loss:  [0.02667049] , weights:  [[2.99868858 2.03631448]]\n",
      "756 loss:  [0.02667044] , weights:  [[2.99869804 2.03629298]]\n",
      "757 loss:  [0.02667038] , weights:  [[2.9987074  2.03627166]]\n",
      "758 loss:  [0.02667033] , weights:  [[2.99871671 2.03625054]]\n",
      "759 loss:  [0.02667028] , weights:  [[2.99872596 2.03622951]]\n",
      "760 loss:  [0.02667022] , weights:  [[2.99873513 2.03620862]]\n",
      "761 loss:  [0.02667017] , weights:  [[2.99874426 2.03618791]]\n",
      "762 loss:  [0.02667012] , weights:  [[2.99875332 2.03616733]]\n",
      "763 loss:  [0.02667007] , weights:  [[2.99876233 2.03614696]]\n",
      "764 loss:  [0.02667002] , weights:  [[2.99877124 2.03612666]]\n",
      "765 loss:  [0.02666998] , weights:  [[2.9987801  2.03610649]]\n",
      "766 loss:  [0.02666993] , weights:  [[2.99878887 2.03608656]]\n",
      "767 loss:  [0.02666988] , weights:  [[2.99879757 2.03606673]]\n",
      "768 loss:  [0.02666984] , weights:  [[2.99880627 2.03604708]]\n",
      "769 loss:  [0.02666979] , weights:  [[2.99881486 2.03602751]]\n",
      "770 loss:  [0.02666975] , weights:  [[2.99882342 2.03600805]]\n",
      "771 loss:  [0.0266697] , weights:  [[2.9988319  2.03598873]]\n",
      "772 loss:  [0.02666966] , weights:  [[2.99884032 2.03596956]]\n",
      "773 loss:  [0.02666961] , weights:  [[2.99884866 2.03595057]]\n",
      "774 loss:  [0.02666957] , weights:  [[2.99885694 2.03593177]]\n",
      "775 loss:  [0.02666953] , weights:  [[2.99886521 2.035913  ]]\n",
      "776 loss:  [0.02666949] , weights:  [[2.99887339 2.03589445]]\n",
      "777 loss:  [0.02666945] , weights:  [[2.99888151 2.035876  ]]\n",
      "778 loss:  [0.02666941] , weights:  [[2.99888954 2.03585766]]\n",
      "779 loss:  [0.02666937] , weights:  [[2.99889755 2.03583943]]\n",
      "780 loss:  [0.02666933] , weights:  [[2.99890551 2.03582138]]\n",
      "781 loss:  [0.02666929] , weights:  [[2.9989134  2.03580344]]\n",
      "782 loss:  [0.02666925] , weights:  [[2.99892124 2.03578562]]\n",
      "783 loss:  [0.02666922] , weights:  [[2.99892902 2.03576791]]\n",
      "784 loss:  [0.02666918] , weights:  [[2.99893677 2.03575028]]\n",
      "785 loss:  [0.02666914] , weights:  [[2.99894444 2.03573288]]\n",
      "786 loss:  [0.02666911] , weights:  [[2.99895205 2.03571557]]\n",
      "787 loss:  [0.02666907] , weights:  [[2.99895963 2.03569837]]\n",
      "788 loss:  [0.02666904] , weights:  [[2.99896713 2.03568134]]\n",
      "789 loss:  [0.02666901] , weights:  [[2.9989746  2.03566438]]\n",
      "790 loss:  [0.02666897] , weights:  [[2.99898201 2.03564763]]\n",
      "791 loss:  [0.02666894] , weights:  [[2.99898931 2.03563101]]\n",
      "792 loss:  [0.02666891] , weights:  [[2.99899658 2.03561443]]\n",
      "793 loss:  [0.02666887] , weights:  [[2.99900378 2.03559797]]\n",
      "794 loss:  [0.02666884] , weights:  [[2.99901097 2.03558162]]\n",
      "795 loss:  [0.02666881] , weights:  [[2.99901812 2.03556548]]\n",
      "796 loss:  [0.02666878] , weights:  [[2.99902517 2.03554944]]\n"
     ]
    },
    {
     "name": "stdout",
     "output_type": "stream",
     "text": [
      "797 loss:  [0.02666875] , weights:  [[2.99903219 2.03553346]]\n",
      "798 loss:  [0.02666872] , weights:  [[2.99903918 2.03551759]]\n",
      "799 loss:  [0.02666869] , weights:  [[2.99904613 2.0355019 ]]\n",
      "800 loss:  [0.02666866] , weights:  [[2.99905301 2.03548632]]\n",
      "801 loss:  [0.02666863] , weights:  [[2.99905981 2.03547078]]\n",
      "802 loss:  [0.0266686] , weights:  [[2.99906657 2.03545536]]\n",
      "803 loss:  [0.02666858] , weights:  [[2.99907326 2.03544007]]\n",
      "804 loss:  [0.02666855] , weights:  [[2.99907994 2.03542488]]\n",
      "805 loss:  [0.02666852] , weights:  [[2.99908657 2.03540979]]\n",
      "806 loss:  [0.0266685] , weights:  [[2.99909318 2.03539474]]\n",
      "807 loss:  [0.02666847] , weights:  [[2.99909972 2.03537988]]\n",
      "808 loss:  [0.02666844] , weights:  [[2.99910621 2.03536512]]\n",
      "809 loss:  [0.02666842] , weights:  [[2.99911266 2.03535049]]\n",
      "810 loss:  [0.02666839] , weights:  [[2.99911908 2.03533592]]\n",
      "811 loss:  [0.02666837] , weights:  [[2.99912543 2.03532143]]\n",
      "812 loss:  [0.02666834] , weights:  [[2.99913174 2.03530709]]\n",
      "813 loss:  [0.02666832] , weights:  [[2.99913798 2.03529288]]\n",
      "814 loss:  [0.0266683] , weights:  [[2.9991442 2.0352788]]\n",
      "815 loss:  [0.02666827] , weights:  [[2.99915039 2.03526474]]\n",
      "816 loss:  [0.02666825] , weights:  [[2.99915651 2.03525079]]\n",
      "817 loss:  [0.02666823] , weights:  [[2.99916259 2.03523696]]\n",
      "818 loss:  [0.0266682] , weights:  [[2.99916863 2.03522318]]\n",
      "819 loss:  [0.02666818] , weights:  [[2.99917466 2.03520948]]\n",
      "820 loss:  [0.02666816] , weights:  [[2.99918064 2.03519588]]\n",
      "821 loss:  [0.02666814] , weights:  [[2.99918655 2.03518248]]\n",
      "822 loss:  [0.02666812] , weights:  [[2.99919242 2.03516914]]\n",
      "823 loss:  [0.0266681] , weights:  [[2.99919825 2.0351559 ]]\n",
      "824 loss:  [0.02666808] , weights:  [[2.99920405 2.03514269]]\n",
      "825 loss:  [0.02666806] , weights:  [[2.9992098  2.03512969]]\n",
      "826 loss:  [0.02666804] , weights:  [[2.99921547 2.03511675]]\n",
      "827 loss:  [0.02666802] , weights:  [[2.99922113 2.03510389]]\n",
      "828 loss:  [0.026668] , weights:  [[2.99922677 2.03509105]]\n",
      "829 loss:  [0.02666798] , weights:  [[2.99923235 2.03507838]]\n",
      "830 loss:  [0.02666796] , weights:  [[2.99923791 2.03506579]]\n",
      "831 loss:  [0.02666794] , weights:  [[2.9992434  2.03505325]]\n",
      "832 loss:  [0.02666792] , weights:  [[2.99924888 2.03504077]]\n",
      "833 loss:  [0.0266679] , weights:  [[2.99925428 2.03502853]]\n",
      "834 loss:  [0.02666789] , weights:  [[2.99925966 2.03501628]]\n",
      "835 loss:  [0.02666787] , weights:  [[2.99926497 2.03500415]]\n",
      "836 loss:  [0.02666785] , weights:  [[2.99927028 2.0349921 ]]\n",
      "837 loss:  [0.02666783] , weights:  [[2.99927555 2.03498017]]\n",
      "838 loss:  [0.02666782] , weights:  [[2.99928078 2.03496827]]\n",
      "839 loss:  [0.0266678] , weights:  [[2.99928597 2.03495648]]\n",
      "840 loss:  [0.02666778] , weights:  [[2.99929112 2.03494477]]\n",
      "841 loss:  [0.02666777] , weights:  [[2.99929621 2.03493318]]\n",
      "842 loss:  [0.02666775] , weights:  [[2.99930127 2.03492157]]\n",
      "843 loss:  [0.02666774] , weights:  [[2.9993063  2.03491005]]\n",
      "844 loss:  [0.02666772] , weights:  [[2.9993113  2.03489876]]\n",
      "845 loss:  [0.02666771] , weights:  [[2.99931629 2.03488748]]\n",
      "846 loss:  [0.02666769] , weights:  [[2.99932123 2.03487628]]\n",
      "847 loss:  [0.02666768] , weights:  [[2.99932613 2.03486513]]\n",
      "848 loss:  [0.02666766] , weights:  [[2.999331   2.03485409]]\n",
      "849 loss:  [0.02666765] , weights:  [[2.99933581 2.03484314]]\n",
      "850 loss:  [0.02666763] , weights:  [[2.9993406  2.03483221]]\n",
      "851 loss:  [0.02666762] , weights:  [[2.99934539 2.03482134]]\n",
      "852 loss:  [0.02666761] , weights:  [[2.99935012 2.03481066]]\n",
      "853 loss:  [0.02666759] , weights:  [[2.99935481 2.03479995]]\n",
      "854 loss:  [0.02666758] , weights:  [[2.99935947 2.03478938]]\n",
      "855 loss:  [0.02666757] , weights:  [[2.99936409 2.03477888]]\n",
      "856 loss:  [0.02666755] , weights:  [[2.99936866 2.03476848]]\n",
      "857 loss:  [0.02666754] , weights:  [[2.99937321 2.03475809]]\n",
      "858 loss:  [0.02666753] , weights:  [[2.99937772 2.03474789]]\n",
      "859 loss:  [0.02666752] , weights:  [[2.99938221 2.03473766]]\n",
      "860 loss:  [0.0266675] , weights:  [[2.9993867  2.03472754]]\n",
      "861 loss:  [0.02666749] , weights:  [[2.99939109 2.03471748]]\n",
      "862 loss:  [0.02666748] , weights:  [[2.99939549 2.03470745]]\n",
      "863 loss:  [0.02666747] , weights:  [[2.99939988 2.03469752]]\n",
      "864 loss:  [0.02666746] , weights:  [[2.99940421 2.03468769]]\n",
      "865 loss:  [0.02666744] , weights:  [[2.99940851 2.03467792]]\n",
      "866 loss:  [0.02666743] , weights:  [[2.99941278 2.03466822]]\n",
      "867 loss:  [0.02666742] , weights:  [[2.99941701 2.0346586 ]]\n",
      "868 loss:  [0.02666741] , weights:  [[2.99942122 2.03464906]]\n",
      "869 loss:  [0.0266674] , weights:  [[2.99942537 2.0346396 ]]\n",
      "870 loss:  [0.02666739] , weights:  [[2.99942951 2.03463015]]\n",
      "871 loss:  [0.02666738] , weights:  [[2.99943361 2.03462083]]\n",
      "872 loss:  [0.02666737] , weights:  [[2.99943772 2.03461154]]\n",
      "873 loss:  [0.02666736] , weights:  [[2.99944177 2.03460237]]\n",
      "874 loss:  [0.02666735] , weights:  [[2.99944579 2.03459324]]\n",
      "875 loss:  [0.02666734] , weights:  [[2.99944978 2.03458411]]\n",
      "876 loss:  [0.02666733] , weights:  [[2.99945377 2.03457506]]\n",
      "877 loss:  [0.02666732] , weights:  [[2.99945771 2.03456608]]\n",
      "878 loss:  [0.02666731] , weights:  [[2.99946162 2.03455724]]\n",
      "879 loss:  [0.0266673] , weights:  [[2.99946552 2.03454839]]\n",
      "880 loss:  [0.02666729] , weights:  [[2.99946939 2.0345396 ]]\n",
      "881 loss:  [0.02666728] , weights:  [[2.99947324 2.03453089]]\n",
      "882 loss:  [0.02666728] , weights:  [[2.999477   2.03452225]]\n",
      "883 loss:  [0.02666727] , weights:  [[2.99948077 2.03451368]]\n",
      "884 loss:  [0.02666726] , weights:  [[2.99948454 2.03450523]]\n",
      "885 loss:  [0.02666725] , weights:  [[2.99948824 2.03449678]]\n",
      "886 loss:  [0.02666724] , weights:  [[2.99949192 2.03448838]]\n",
      "887 loss:  [0.02666723] , weights:  [[2.99949558 2.03448005]]\n",
      "888 loss:  [0.02666722] , weights:  [[2.99949921 2.03447178]]\n",
      "889 loss:  [0.02666722] , weights:  [[2.99950282 2.03446356]]\n",
      "890 loss:  [0.02666721] , weights:  [[2.99950642 2.03445534]]\n",
      "891 loss:  [0.0266672] , weights:  [[2.99951001 2.03444725]]\n",
      "892 loss:  [0.02666719] , weights:  [[2.99951356 2.03443914]]\n",
      "893 loss:  [0.02666719] , weights:  [[2.99951709 2.03443109]]\n",
      "894 loss:  [0.02666718] , weights:  [[2.99952055 2.03442325]]\n",
      "895 loss:  [0.02666717] , weights:  [[2.99952403 2.03441536]]\n",
      "896 loss:  [0.02666716] , weights:  [[2.99952748 2.03440763]]\n",
      "897 loss:  [0.02666716] , weights:  [[2.99953089 2.0343998 ]]\n",
      "898 loss:  [0.02666715] , weights:  [[2.99953427 2.03439211]]\n",
      "899 loss:  [0.02666714] , weights:  [[2.9995376  2.03438449]]\n",
      "900 loss:  [0.02666714] , weights:  [[2.99954093 2.03437691]]\n",
      "901 loss:  [0.02666713] , weights:  [[2.99954426 2.03436932]]\n",
      "902 loss:  [0.02666712] , weights:  [[2.99954758 2.03436192]]\n",
      "903 loss:  [0.02666712] , weights:  [[2.99955085 2.03435447]]\n",
      "904 loss:  [0.02666711] , weights:  [[2.99955407 2.0343471 ]]\n",
      "905 loss:  [0.0266671] , weights:  [[2.99955731 2.03433985]]\n",
      "906 loss:  [0.0266671] , weights:  [[2.9995605  2.03433256]]\n",
      "907 loss:  [0.02666709] , weights:  [[2.99956368 2.03432535]]\n",
      "908 loss:  [0.02666708] , weights:  [[2.99956681 2.03431819]]\n",
      "909 loss:  [0.02666708] , weights:  [[2.99956989 2.03431101]]\n",
      "910 loss:  [0.02666707] , weights:  [[2.99957303 2.03430394]]\n",
      "911 loss:  [0.02666707] , weights:  [[2.99957608 2.03429696]]\n",
      "912 loss:  [0.02666706] , weights:  [[2.99957917 2.03428999]]\n",
      "913 loss:  [0.02666705] , weights:  [[2.99958218 2.03428309]]\n",
      "914 loss:  [0.02666705] , weights:  [[2.99958517 2.03427617]]\n",
      "915 loss:  [0.02666704] , weights:  [[2.99958821 2.03426936]]\n",
      "916 loss:  [0.02666704] , weights:  [[2.99959119 2.03426261]]\n",
      "917 loss:  [0.02666703] , weights:  [[2.99959414 2.03425594]]\n",
      "918 loss:  [0.02666703] , weights:  [[2.99959707 2.03424933]]\n",
      "919 loss:  [0.02666702] , weights:  [[2.99959997 2.03424272]]\n",
      "920 loss:  [0.02666702] , weights:  [[2.99960283 2.03423619]]\n",
      "921 loss:  [0.02666701] , weights:  [[2.99960569 2.03422968]]\n",
      "922 loss:  [0.02666701] , weights:  [[2.99960854 2.03422321]]\n",
      "923 loss:  [0.026667] , weights:  [[2.99961139 2.03421672]]\n",
      "924 loss:  [0.026667] , weights:  [[2.99961421 2.03421028]]\n",
      "925 loss:  [0.02666699] , weights:  [[2.999617   2.03420398]]\n",
      "926 loss:  [0.02666699] , weights:  [[2.99961974 2.03419773]]\n",
      "927 loss:  [0.02666698] , weights:  [[2.99962246 2.03419152]]\n",
      "928 loss:  [0.02666698] , weights:  [[2.99962519 2.03418528]]\n",
      "929 loss:  [0.02666697] , weights:  [[2.9996279 2.0341791]]\n",
      "930 loss:  [0.02666697] , weights:  [[2.9996306 2.034173 ]]\n",
      "931 loss:  [0.02666697] , weights:  [[2.99963325 2.03416688]]\n",
      "932 loss:  [0.02666696] , weights:  [[2.99963594 2.03416095]]\n",
      "933 loss:  [0.02666696] , weights:  [[2.99963854 2.03415491]]\n",
      "934 loss:  [0.02666695] , weights:  [[2.99964116 2.03414901]]\n",
      "935 loss:  [0.02666695] , weights:  [[2.99964377 2.03414306]]\n",
      "936 loss:  [0.02666694] , weights:  [[2.99964635 2.03413723]]\n",
      "937 loss:  [0.02666694] , weights:  [[2.99964891 2.03413143]]\n",
      "938 loss:  [0.02666694] , weights:  [[2.99965146 2.03412575]]\n",
      "939 loss:  [0.02666693] , weights:  [[2.99965396 2.03412003]]\n",
      "940 loss:  [0.02666693] , weights:  [[2.99965645 2.0341144 ]]\n",
      "941 loss:  [0.02666693] , weights:  [[2.99965892 2.03410876]]\n",
      "942 loss:  [0.02666692] , weights:  [[2.99966139 2.03410323]]\n",
      "943 loss:  [0.02666692] , weights:  [[2.99966381 2.03409762]]\n",
      "944 loss:  [0.02666691] , weights:  [[2.99966621 2.03409211]]\n",
      "945 loss:  [0.02666691] , weights:  [[2.99966862 2.03408666]]\n",
      "946 loss:  [0.02666691] , weights:  [[2.99967103 2.03408123]]\n",
      "947 loss:  [0.0266669] , weights:  [[2.99967342 2.03407583]]\n",
      "948 loss:  [0.0266669] , weights:  [[2.99967578 2.03407054]]\n",
      "949 loss:  [0.0266669] , weights:  [[2.9996781  2.03406517]]\n",
      "950 loss:  [0.02666689] , weights:  [[2.99968041 2.03405989]]\n",
      "951 loss:  [0.02666689] , weights:  [[2.99968271 2.03405464]]\n",
      "952 loss:  [0.02666689] , weights:  [[2.99968502 2.03404942]]\n",
      "953 loss:  [0.02666688] , weights:  [[2.99968728 2.03404425]]\n",
      "954 loss:  [0.02666688] , weights:  [[2.99968956 2.03403912]]\n",
      "955 loss:  [0.02666688] , weights:  [[2.99969179 2.03403405]]\n",
      "956 loss:  [0.02666687] , weights:  [[2.999694   2.03402899]]\n",
      "957 loss:  [0.02666687] , weights:  [[2.9996962  2.03402395]]\n",
      "958 loss:  [0.02666687] , weights:  [[2.99969839 2.03401897]]\n",
      "959 loss:  [0.02666687] , weights:  [[2.99970056 2.034014  ]]\n",
      "960 loss:  [0.02666686] , weights:  [[2.99970273 2.03400909]]\n",
      "961 loss:  [0.02666686] , weights:  [[2.99970487 2.0340042 ]]\n",
      "962 loss:  [0.02666686] , weights:  [[2.99970703 2.03399936]]\n",
      "963 loss:  [0.02666685] , weights:  [[2.99970914 2.03399455]]\n",
      "964 loss:  [0.02666685] , weights:  [[2.99971123 2.03398978]]\n",
      "965 loss:  [0.02666685] , weights:  [[2.99971329 2.03398498]]\n",
      "966 loss:  [0.02666685] , weights:  [[2.99971539 2.03398028]]\n",
      "967 loss:  [0.02666684] , weights:  [[2.99971745 2.03397562]]\n",
      "968 loss:  [0.02666684] , weights:  [[2.99971949 2.03397099]]\n",
      "969 loss:  [0.02666684] , weights:  [[2.99972149 2.03396641]]\n",
      "970 loss:  [0.02666684] , weights:  [[2.99972353 2.03396178]]\n",
      "971 loss:  [0.02666683] , weights:  [[2.99972553 2.03395725]]\n",
      "972 loss:  [0.02666683] , weights:  [[2.99972748 2.03395282]]\n",
      "973 loss:  [0.02666683] , weights:  [[2.99972945 2.0339484 ]]\n",
      "974 loss:  [0.02666683] , weights:  [[2.99973137 2.03394403]]\n",
      "975 loss:  [0.02666682] , weights:  [[2.99973328 2.0339397 ]]\n",
      "976 loss:  [0.02666682] , weights:  [[2.99973522 2.0339353 ]]\n",
      "977 loss:  [0.02666682] , weights:  [[2.99973715 2.03393093]]\n",
      "978 loss:  [0.02666682] , weights:  [[2.99973903 2.03392664]]\n",
      "979 loss:  [0.02666682] , weights:  [[2.99974091 2.03392234]]\n",
      "980 loss:  [0.02666681] , weights:  [[2.99974277 2.03391809]]\n",
      "981 loss:  [0.02666681] , weights:  [[2.99974463 2.03391384]]\n",
      "982 loss:  [0.02666681] , weights:  [[2.99974645 2.03390966]]\n",
      "983 loss:  [0.02666681] , weights:  [[2.99974828 2.0339055 ]]\n",
      "984 loss:  [0.02666681] , weights:  [[2.9997501  2.03390138]]\n",
      "985 loss:  [0.0266668] , weights:  [[2.99975193 2.03389726]]\n",
      "986 loss:  [0.0266668] , weights:  [[2.99975372 2.03389319]]\n",
      "987 loss:  [0.0266668] , weights:  [[2.99975547 2.03388908]]\n",
      "988 loss:  [0.0266668] , weights:  [[2.99975722 2.03388501]]\n",
      "989 loss:  [0.0266668] , weights:  [[2.99975898 2.03388112]]\n",
      "990 loss:  [0.02666679] , weights:  [[2.99976075 2.0338771 ]]\n",
      "991 loss:  [0.02666679] , weights:  [[2.99976249 2.03387318]]\n",
      "992 loss:  [0.02666679] , weights:  [[2.99976421 2.03386934]]\n",
      "993 loss:  [0.02666679] , weights:  [[2.99976589 2.0338655 ]]\n",
      "994 loss:  [0.02666679] , weights:  [[2.99976758 2.03386166]]\n",
      "995 loss:  [0.02666679] , weights:  [[2.99976928 2.03385785]]\n",
      "996 loss:  [0.02666678] , weights:  [[2.99977092 2.03385414]]\n",
      "997 loss:  [0.02666678] , weights:  [[2.99977254 2.03385045]]\n",
      "998 loss:  [0.02666678] , weights:  [[2.99977417 2.03384672]]\n",
      "999 loss:  [0.02666678] , weights:  [[2.99977582 2.03384299]]\n"
     ]
    }
   ],
   "source": [
    "w = np.array([[1, 2]])\n",
    "X = np.array([[1], [2], [3]])\n",
    "y = np.array([5.1, 7.9, 11.1]).reshape(-1, 1) # 3 x 1\n",
    "\n",
    "for epoch in range(1000):\n",
    "    w = new_weights(X, y, w)\n",
    "    print(epoch, \"loss: \" , lossf(X, y, w), \", weights: \", w)"
   ]
  },
  {
   "cell_type": "code",
   "execution_count": null,
   "metadata": {},
   "outputs": [],
   "source": []
  }
 ],
 "metadata": {
  "kernelspec": {
   "display_name": "Python 3",
   "language": "python",
   "name": "python3"
  },
  "language_info": {
   "codemirror_mode": {
    "name": "ipython",
    "version": 3
   },
   "file_extension": ".py",
   "mimetype": "text/x-python",
   "name": "python",
   "nbconvert_exporter": "python",
   "pygments_lexer": "ipython3",
   "version": "3.6.8"
  },
  "toc": {
   "base_numbering": 1,
   "nav_menu": {},
   "number_sections": true,
   "sideBar": true,
   "skip_h1_title": false,
   "title_cell": "Table of Contents",
   "title_sidebar": "Contents",
   "toc_cell": false,
   "toc_position": {},
   "toc_section_display": true,
   "toc_window_display": false
  }
 },
 "nbformat": 4,
 "nbformat_minor": 2
}
