{
 "cells": [
  {
   "cell_type": "code",
   "execution_count": null,
   "metadata": {},
   "outputs": [],
   "source": [
    "y = 100 x1 + 200x2 + 304 x3 + ... + 100"
   ]
  },
  {
   "cell_type": "code",
   "execution_count": 2,
   "metadata": {},
   "outputs": [],
   "source": [
    "import numpy as np"
   ]
  },
  {
   "cell_type": "code",
   "execution_count": 10,
   "metadata": {},
   "outputs": [
    {
     "name": "stdout",
     "output_type": "stream",
     "text": [
      "[ 19 135  25  74 123]\n"
     ]
    }
   ],
   "source": [
    "m = 10\n",
    "n = 4\n",
    "\n",
    "np.random.seed(10)\n",
    "c = np.random.randint(10, 200, n+1)\n",
    "print(c)"
   ]
  },
  {
   "cell_type": "code",
   "execution_count": 11,
   "metadata": {},
   "outputs": [
    {
     "data": {
      "text/plain": [
       "array([[0.74880388, 0.49850701, 0.22479665, 0.19806286],\n",
       "       [0.76053071, 0.16911084, 0.08833981, 0.68535982],\n",
       "       [0.95339335, 0.00394827, 0.51219226, 0.81262096],\n",
       "       [0.61252607, 0.72175532, 0.29187607, 0.91777412],\n",
       "       [0.71457578, 0.54254437, 0.14217005, 0.37334076],\n",
       "       [0.67413362, 0.44183317, 0.43401399, 0.61776698],\n",
       "       [0.51313824, 0.65039718, 0.60103895, 0.8052232 ],\n",
       "       [0.52164715, 0.90864888, 0.31923609, 0.09045935],\n",
       "       [0.30070006, 0.11398436, 0.82868133, 0.04689632],\n",
       "       [0.62628715, 0.54758616, 0.819287  , 0.19894754]])"
      ]
     },
     "execution_count": 11,
     "metadata": {},
     "output_type": "execute_result"
    }
   ],
   "source": [
    "X = np.random.random((m,n))\n",
    "X"
   ]
  },
  {
   "cell_type": "code",
   "execution_count": 38,
   "metadata": {},
   "outputs": [
    {
     "data": {
      "text/plain": [
       "224.80228796"
      ]
     },
     "execution_count": 38,
     "metadata": {},
     "output_type": "execute_result"
    }
   ],
   "source": [
    "np.sum([0.74880388*19, 0.49850701*135, 0.22479665*25, 0.19806286*74,   123])"
   ]
  },
  {
   "cell_type": "code",
   "execution_count": 41,
   "metadata": {},
   "outputs": [
    {
     "data": {
      "text/plain": [
       "array([ 4,  8, 12])"
      ]
     },
     "execution_count": 41,
     "metadata": {},
     "output_type": "execute_result"
    }
   ],
   "source": [
    "np.array([1, 2, 3]) * 4"
   ]
  },
  {
   "cell_type": "code",
   "execution_count": 40,
   "metadata": {},
   "outputs": [
    {
     "data": {
      "text/plain": [
       "array([ 4,  8, 12])"
      ]
     },
     "execution_count": 40,
     "metadata": {},
     "output_type": "execute_result"
    }
   ],
   "source": [
    "np.array([1, 2, 3]) * np.array([4, 4, 4])"
   ]
  },
  {
   "cell_type": "code",
   "execution_count": 46,
   "metadata": {},
   "outputs": [
    {
     "data": {
      "text/plain": [
       "array([[  4,  10,  18],\n",
       "       [ 40, 100, 180]])"
      ]
     },
     "execution_count": 46,
     "metadata": {},
     "output_type": "execute_result"
    }
   ],
   "source": [
    "np.array([[1, 2, 3], \n",
    "          [10,20,30]]) * np.array([4, 5, 6])"
   ]
  },
  {
   "cell_type": "code",
   "execution_count": 47,
   "metadata": {},
   "outputs": [
    {
     "data": {
      "text/plain": [
       "array([[  4,  10,  18],\n",
       "       [ 40, 100, 180]])"
      ]
     },
     "execution_count": 47,
     "metadata": {},
     "output_type": "execute_result"
    }
   ],
   "source": [
    "np.array([[1, 2, 3], \n",
    "          [10,20,30]]) * np.array([[4, 5, 6],\n",
    "                                   [4, 5, 6]])"
   ]
  },
  {
   "cell_type": "code",
   "execution_count": 48,
   "metadata": {},
   "outputs": [
    {
     "data": {
      "text/plain": [
       "array([[   4,   10,   18],\n",
       "       [ 400, 1000, 1800]])"
      ]
     },
     "execution_count": 48,
     "metadata": {},
     "output_type": "execute_result"
    }
   ],
   "source": [
    "np.array([[1, 2, 3], \n",
    "          [10,20,30]]) * np.array([[4, 5, 6],\n",
    "                                   [40, 50, 60]])"
   ]
  },
  {
   "cell_type": "code",
   "execution_count": 49,
   "metadata": {},
   "outputs": [
    {
     "data": {
      "text/plain": [
       "array([140, 260])"
      ]
     },
     "execution_count": 49,
     "metadata": {},
     "output_type": "execute_result"
    }
   ],
   "source": [
    "A = np.array([\n",
    "    [1, 2, 3],  \n",
    "    [3, 4, 5]\n",
    "])\n",
    "B = np.array([10, 20, 30])\n",
    "A.dot(B)"
   ]
  },
  {
   "cell_type": "code",
   "execution_count": 50,
   "metadata": {},
   "outputs": [
    {
     "data": {
      "text/plain": [
       "array([[ 10,  40,  90],\n",
       "       [ 30,  80, 150]])"
      ]
     },
     "execution_count": 50,
     "metadata": {},
     "output_type": "execute_result"
    }
   ],
   "source": [
    "A * B"
   ]
  },
  {
   "cell_type": "code",
   "execution_count": 51,
   "metadata": {},
   "outputs": [
    {
     "data": {
      "text/plain": [
       "array([140, 260])"
      ]
     },
     "execution_count": 51,
     "metadata": {},
     "output_type": "execute_result"
    }
   ],
   "source": [
    "np.sum(A*B, axis=1)"
   ]
  },
  {
   "cell_type": "code",
   "execution_count": 52,
   "metadata": {},
   "outputs": [
    {
     "data": {
      "text/plain": [
       "array([ 40, 120, 240])"
      ]
     },
     "execution_count": 52,
     "metadata": {},
     "output_type": "execute_result"
    }
   ],
   "source": [
    "np.sum(A*B, axis=0)"
   ]
  },
  {
   "cell_type": "code",
   "execution_count": 54,
   "metadata": {},
   "outputs": [
    {
     "data": {
      "text/plain": [
       "array([ 19, 135,  25,  74, 123])"
      ]
     },
     "execution_count": 54,
     "metadata": {},
     "output_type": "execute_result"
    }
   ],
   "source": [
    "c"
   ]
  },
  {
   "cell_type": "code",
   "execution_count": 60,
   "metadata": {},
   "outputs": [
    {
     "data": {
      "text/plain": [
       "array([ 19, 135,  25,  74])"
      ]
     },
     "execution_count": 60,
     "metadata": {},
     "output_type": "execute_result"
    }
   ],
   "source": [
    "c[:-1]"
   ]
  },
  {
   "cell_type": "code",
   "execution_count": 59,
   "metadata": {},
   "outputs": [
    {
     "data": {
      "text/plain": [
       "array([ 19, 135,  25,  74])"
      ]
     },
     "execution_count": 59,
     "metadata": {},
     "output_type": "execute_result"
    }
   ],
   "source": [
    "c[0:c.shape[0]-1]"
   ]
  },
  {
   "cell_type": "code",
   "execution_count": 26,
   "metadata": {
    "scrolled": true
   },
   "outputs": [
    {
     "data": {
      "text/plain": [
       "array([224.80228856, 213.20516838, 214.58624728, 307.28714989,\n",
       "       241.001897  , 252.02112347, 295.16573657, 270.25378888,\n",
       "       168.28855072, 244.02787969])"
      ]
     },
     "execution_count": 26,
     "metadata": {},
     "output_type": "execute_result"
    }
   ],
   "source": [
    "X.dot(c[:-1]) + c[-1]"
   ]
  },
  {
   "cell_type": "code",
   "execution_count": 65,
   "metadata": {},
   "outputs": [
    {
     "data": {
      "text/plain": [
       "(10, 4)"
      ]
     },
     "execution_count": 65,
     "metadata": {},
     "output_type": "execute_result"
    }
   ],
   "source": [
    "X.shape"
   ]
  },
  {
   "cell_type": "code",
   "execution_count": 72,
   "metadata": {},
   "outputs": [],
   "source": [
    "ones = np.ones((m, 1))"
   ]
  },
  {
   "cell_type": "code",
   "execution_count": 79,
   "metadata": {},
   "outputs": [
    {
     "data": {
      "text/plain": [
       "array([[0.74880388, 0.49850701, 0.22479665, 0.19806286],\n",
       "       [0.76053071, 0.16911084, 0.08833981, 0.68535982],\n",
       "       [0.95339335, 0.00394827, 0.51219226, 0.81262096],\n",
       "       [0.61252607, 0.72175532, 0.29187607, 0.91777412],\n",
       "       [0.71457578, 0.54254437, 0.14217005, 0.37334076],\n",
       "       [0.67413362, 0.44183317, 0.43401399, 0.61776698],\n",
       "       [0.51313824, 0.65039718, 0.60103895, 0.8052232 ],\n",
       "       [0.52164715, 0.90864888, 0.31923609, 0.09045935],\n",
       "       [0.30070006, 0.11398436, 0.82868133, 0.04689632],\n",
       "       [0.62628715, 0.54758616, 0.819287  , 0.19894754]])"
      ]
     },
     "execution_count": 79,
     "metadata": {},
     "output_type": "execute_result"
    }
   ],
   "source": [
    "X"
   ]
  },
  {
   "cell_type": "code",
   "execution_count": 78,
   "metadata": {},
   "outputs": [
    {
     "data": {
      "text/plain": [
       "array([[0.74880388, 0.49850701, 0.22479665, 0.19806286, 1.        ],\n",
       "       [0.76053071, 0.16911084, 0.08833981, 0.68535982, 1.        ],\n",
       "       [0.95339335, 0.00394827, 0.51219226, 0.81262096, 1.        ],\n",
       "       [0.61252607, 0.72175532, 0.29187607, 0.91777412, 1.        ],\n",
       "       [0.71457578, 0.54254437, 0.14217005, 0.37334076, 1.        ],\n",
       "       [0.67413362, 0.44183317, 0.43401399, 0.61776698, 1.        ],\n",
       "       [0.51313824, 0.65039718, 0.60103895, 0.8052232 , 1.        ],\n",
       "       [0.52164715, 0.90864888, 0.31923609, 0.09045935, 1.        ],\n",
       "       [0.30070006, 0.11398436, 0.82868133, 0.04689632, 1.        ],\n",
       "       [0.62628715, 0.54758616, 0.819287  , 0.19894754, 1.        ]])"
      ]
     },
     "execution_count": 78,
     "metadata": {},
     "output_type": "execute_result"
    }
   ],
   "source": [
    "np.hstack((X, ones))"
   ]
  },
  {
   "cell_type": "code",
   "execution_count": 53,
   "metadata": {},
   "outputs": [
    {
     "data": {
      "text/plain": [
       "array([140, 260])"
      ]
     },
     "execution_count": 53,
     "metadata": {},
     "output_type": "execute_result"
    }
   ],
   "source": [
    "np.dot(A, B)"
   ]
  },
  {
   "cell_type": "code",
   "execution_count": 81,
   "metadata": {},
   "outputs": [
    {
     "data": {
      "text/plain": [
       "array([[0.74880388, 0.49850701, 0.22479665, 0.19806286],\n",
       "       [0.76053071, 0.16911084, 0.08833981, 0.68535982],\n",
       "       [0.95339335, 0.00394827, 0.51219226, 0.81262096],\n",
       "       [0.61252607, 0.72175532, 0.29187607, 0.91777412],\n",
       "       [0.71457578, 0.54254437, 0.14217005, 0.37334076],\n",
       "       [0.67413362, 0.44183317, 0.43401399, 0.61776698],\n",
       "       [0.51313824, 0.65039718, 0.60103895, 0.8052232 ],\n",
       "       [0.52164715, 0.90864888, 0.31923609, 0.09045935],\n",
       "       [0.30070006, 0.11398436, 0.82868133, 0.04689632],\n",
       "       [0.62628715, 0.54758616, 0.819287  , 0.19894754]])"
      ]
     },
     "execution_count": 81,
     "metadata": {},
     "output_type": "execute_result"
    }
   ],
   "source": [
    "X"
   ]
  },
  {
   "cell_type": "code",
   "execution_count": 83,
   "metadata": {},
   "outputs": [
    {
     "data": {
      "text/plain": [
       "10"
      ]
     },
     "execution_count": 83,
     "metadata": {},
     "output_type": "execute_result"
    }
   ],
   "source": [
    "X.shape[0]"
   ]
  },
  {
   "cell_type": "code",
   "execution_count": 91,
   "metadata": {},
   "outputs": [],
   "source": []
  },
  {
   "cell_type": "code",
   "execution_count": 90,
   "metadata": {},
   "outputs": [
    {
     "data": {
      "text/plain": [
       "array([ 80., 110.])"
      ]
     },
     "execution_count": 90,
     "metadata": {},
     "output_type": "execute_result"
    }
   ],
   "source": [
    "w = np.array([10, 20, 30])\n",
    "X = np.array([[1,2], [2, 3]])\n",
    "model(X, w)"
   ]
  },
  {
   "cell_type": "code",
   "execution_count": 112,
   "metadata": {},
   "outputs": [],
   "source": [
    "def model(X, w):\n",
    "    m = X.shape[0]\n",
    "    ones = np.ones((m, 1))\n",
    "    X1 = np.hstack((X, ones))\n",
    "    return X1.dot(w)"
   ]
  },
  {
   "cell_type": "code",
   "execution_count": 113,
   "metadata": {},
   "outputs": [],
   "source": [
    "def generateData(m, n=1):\n",
    "    np.random.seed(10)\n",
    "    c = np.random.randint(10, 200, n+1)\n",
    "    print(\"Coeffs\", c)\n",
    "    X = np.random.random((m,n))\n",
    "    y = model(X, c) + 2*np.random.random((m)) - 2*np.random.random((m))\n",
    "    return X, y"
   ]
  },
  {
   "cell_type": "code",
   "execution_count": 101,
   "metadata": {},
   "outputs": [
    {
     "data": {
      "text/plain": [
       "138.12784016999998"
      ]
     },
     "execution_count": 101,
     "metadata": {},
     "output_type": "execute_result"
    }
   ],
   "source": [
    "19*0.63364823 + 135*0.74880388 + 25"
   ]
  },
  {
   "cell_type": "code",
   "execution_count": 106,
   "metadata": {},
   "outputs": [
    {
     "name": "stdout",
     "output_type": "stream",
     "text": [
      "Coeffs [ 19 135  25]\n"
     ]
    }
   ],
   "source": [
    "X, y = generateData(10, 2)"
   ]
  },
  {
   "cell_type": "code",
   "execution_count": 114,
   "metadata": {},
   "outputs": [],
   "source": [
    "def lossf(X, y, w):\n",
    "    diff = model(X, w) - y\n",
    "    return np.sum(diff*diff)"
   ]
  },
  {
   "cell_type": "code",
   "execution_count": 117,
   "metadata": {},
   "outputs": [
    {
     "name": "stdout",
     "output_type": "stream",
     "text": [
      "Coeffs [ 19 135  25  74 123]\n"
     ]
    }
   ],
   "source": [
    "m = 1000\n",
    "n = 4\n",
    "X, y = generateData(m,n)"
   ]
  },
  {
   "cell_type": "code",
   "execution_count": 118,
   "metadata": {},
   "outputs": [],
   "source": [
    "w = np.random.random(n+1)"
   ]
  },
  {
   "cell_type": "code",
   "execution_count": 119,
   "metadata": {},
   "outputs": [
    {
     "data": {
      "text/plain": [
       "62632228.82337599"
      ]
     },
     "execution_count": 119,
     "metadata": {},
     "output_type": "execute_result"
    }
   ],
   "source": [
    "lossf(X, y, w)"
   ]
  },
  {
   "cell_type": "code",
   "execution_count": 126,
   "metadata": {},
   "outputs": [
    {
     "data": {
      "text/plain": [
       "1e-10"
      ]
     },
     "execution_count": 126,
     "metadata": {},
     "output_type": "execute_result"
    }
   ],
   "source": [
    "1e-10"
   ]
  },
  {
   "cell_type": "code",
   "execution_count": 132,
   "metadata": {},
   "outputs": [
    {
     "data": {
      "text/plain": [
       "array([0.99193634, 0.20693837, 0.70043623, 0.14935247, 0.19871698])"
      ]
     },
     "execution_count": 132,
     "metadata": {},
     "output_type": "execute_result"
    }
   ],
   "source": [
    "w"
   ]
  },
  {
   "cell_type": "code",
   "execution_count": 134,
   "metadata": {},
   "outputs": [
    {
     "data": {
      "text/plain": [
       "4"
      ]
     },
     "execution_count": 134,
     "metadata": {},
     "output_type": "execute_result"
    }
   ],
   "source": [
    "n"
   ]
  },
  {
   "cell_type": "code",
   "execution_count": 145,
   "metadata": {},
   "outputs": [
    {
     "data": {
      "text/plain": [
       "array([[1.99193634, 0.20693837, 0.70043623, 0.14935247, 0.19871698],\n",
       "       [0.99193634, 1.20693837, 0.70043623, 0.14935247, 0.19871698],\n",
       "       [0.99193634, 0.20693837, 1.70043623, 0.14935247, 0.19871698],\n",
       "       [0.99193634, 0.20693837, 0.70043623, 1.14935247, 0.19871698],\n",
       "       [0.99193634, 0.20693837, 0.70043623, 0.14935247, 1.19871698]])"
      ]
     },
     "execution_count": 145,
     "metadata": {},
     "output_type": "execute_result"
    }
   ],
   "source": [
    "numw = w.shape[0]\n",
    "a = np.zeros((numw, numw))\n",
    "np.fill_diagonal(a, 1)\n",
    "neww = w + a\n",
    "neww"
   ]
  },
  {
   "cell_type": "code",
   "execution_count": 151,
   "metadata": {},
   "outputs": [
    {
     "data": {
      "text/plain": [
       "array([[1.99193634, 0.99193634, 0.99193634, 0.99193634, 0.99193634],\n",
       "       [0.20693837, 1.20693837, 0.20693837, 0.20693837, 0.20693837],\n",
       "       [0.70043623, 0.70043623, 1.70043623, 0.70043623, 0.70043623],\n",
       "       [0.14935247, 0.14935247, 0.14935247, 1.14935247, 0.14935247],\n",
       "       [0.19871698, 0.19871698, 0.19871698, 0.19871698, 1.19871698]])"
      ]
     },
     "execution_count": 151,
     "metadata": {},
     "output_type": "execute_result"
    }
   ],
   "source": [
    "neww.T"
   ]
  },
  {
   "cell_type": "code",
   "execution_count": 156,
   "metadata": {},
   "outputs": [],
   "source": [
    "ones = np.ones((m, 1))\n",
    "X1 = np.hstack((X, ones))"
   ]
  },
  {
   "cell_type": "code",
   "execution_count": 157,
   "metadata": {},
   "outputs": [
    {
     "data": {
      "text/plain": [
       "array([[1.98048377, 1.73018689, 1.45647653, 1.42974275, 2.23167988],\n",
       "       [1.91287785, 1.32145798, 1.24068695, 1.83770696, 2.15234714],\n",
       "       [2.57875785, 1.62931277, 2.13755676, 2.43798546, 2.6253645 ],\n",
       "       ...,\n",
       "       [0.4310883 , 0.67148965, 0.44229076, 0.80932391, 1.39228899],\n",
       "       [1.69690582, 2.27456034, 2.37487199, 1.80931637, 2.40596222],\n",
       "       [1.56429859, 1.88438148, 2.1545782 , 1.25980955, 2.25879843]])"
      ]
     },
     "execution_count": 157,
     "metadata": {},
     "output_type": "execute_result"
    }
   ],
   "source": [
    "X1 @ neww.T "
   ]
  },
  {
   "cell_type": "code",
   "execution_count": 169,
   "metadata": {},
   "outputs": [],
   "source": [
    "yy = np.array([1,2,3])\n",
    "ypred = np.array([\n",
    "    [1, 2],\n",
    "    [3, 4],\n",
    "    [5, 6]\n",
    "])"
   ]
  },
  {
   "cell_type": "code",
   "execution_count": 179,
   "metadata": {},
   "outputs": [
    {
     "data": {
      "text/plain": [
       "array([[ 1,  2,  3],\n",
       "       [ 4,  5,  6],\n",
       "       [ 7,  8,  9],\n",
       "       [10, 11, 12]])"
      ]
     },
     "execution_count": 179,
     "metadata": {},
     "output_type": "execute_result"
    }
   ],
   "source": [
    "MyA = np.array([1,2,3,4,5,6, 7, 8, 9, 10, 11, 12])\n",
    "MyA.reshape(-1, 3)"
   ]
  },
  {
   "cell_type": "code",
   "execution_count": 186,
   "metadata": {},
   "outputs": [
    {
     "data": {
      "text/plain": [
       "array([[ 1,  2,  3],\n",
       "       [ 4,  5,  6],\n",
       "       [ 7,  8,  9],\n",
       "       [10, 11, 12]])"
      ]
     },
     "execution_count": 186,
     "metadata": {},
     "output_type": "execute_result"
    }
   ],
   "source": [
    "MyA.reshape(4, -1)"
   ]
  },
  {
   "cell_type": "code",
   "execution_count": null,
   "metadata": {},
   "outputs": [],
   "source": [
    "MyA.reshape()"
   ]
  },
  {
   "cell_type": "code",
   "execution_count": 188,
   "metadata": {},
   "outputs": [],
   "source": [
    "yy = np.array([1,2,3])\n",
    "ypred = np.array([\n",
    "    [1, 2],\n",
    "    [3, 4],\n",
    "    [5, 6]\n",
    "])"
   ]
  },
  {
   "cell_type": "code",
   "execution_count": 190,
   "metadata": {},
   "outputs": [],
   "source": [
    "yy1 = yy.reshape(-1, 1)"
   ]
  },
  {
   "cell_type": "code",
   "execution_count": 193,
   "metadata": {
    "scrolled": true
   },
   "outputs": [
    {
     "data": {
      "text/plain": [
       "array([[0, 1],\n",
       "       [1, 2],\n",
       "       [2, 3]])"
      ]
     },
     "execution_count": 193,
     "metadata": {},
     "output_type": "execute_result"
    }
   ],
   "source": [
    "diff= ypred - yy1\n",
    "diff"
   ]
  },
  {
   "cell_type": "code",
   "execution_count": 195,
   "metadata": {},
   "outputs": [],
   "source": [
    "sqdiff = diff*diff"
   ]
  },
  {
   "cell_type": "code",
   "execution_count": 197,
   "metadata": {},
   "outputs": [
    {
     "data": {
      "text/plain": [
       "array([[0, 1],\n",
       "       [1, 4],\n",
       "       [4, 9]])"
      ]
     },
     "execution_count": 197,
     "metadata": {},
     "output_type": "execute_result"
    }
   ],
   "source": [
    "sqdiff"
   ]
  },
  {
   "cell_type": "code",
   "execution_count": 198,
   "metadata": {},
   "outputs": [
    {
     "data": {
      "text/plain": [
       "array([ 5, 14])"
      ]
     },
     "execution_count": 198,
     "metadata": {},
     "output_type": "execute_result"
    }
   ],
   "source": [
    "np.sum(sqdiff, axis=0)"
   ]
  },
  {
   "cell_type": "code",
   "execution_count": 154,
   "metadata": {},
   "outputs": [
    {
     "data": {
      "text/plain": [
       "array([[140, 200],\n",
       "       [200, 290]])"
      ]
     },
     "execution_count": 154,
     "metadata": {},
     "output_type": "execute_result"
    }
   ],
   "source": [
    "A = np.array([\n",
    "        [1,2,3],\n",
    "        [2, 3, 4]\n",
    "    ])\n",
    "B = np.array([\n",
    "    [10, 20],\n",
    "    [20, 30],\n",
    "    [30, 40],\n",
    "])\n",
    "A @ B"
   ]
  },
  {
   "cell_type": "code",
   "execution_count": 130,
   "metadata": {},
   "outputs": [
    {
     "data": {
      "text/plain": [
       "array([[1, 0, 0],\n",
       "       [0, 2, 0],\n",
       "       [0, 0, 3]])"
      ]
     },
     "execution_count": 130,
     "metadata": {},
     "output_type": "execute_result"
    }
   ],
   "source": [
    "np.diag([1,2,3])"
   ]
  },
  {
   "cell_type": "code",
   "execution_count": 199,
   "metadata": {},
   "outputs": [
    {
     "data": {
      "text/plain": [
       "array([[0.74880388, 0.49850701, 0.22479665, 0.19806286],\n",
       "       [0.76053071, 0.16911084, 0.08833981, 0.68535982],\n",
       "       [0.95339335, 0.00394827, 0.51219226, 0.81262096],\n",
       "       ...,\n",
       "       [0.03879931, 0.27920065, 0.05000176, 0.41703491],\n",
       "       [0.29094359, 0.86859811, 0.96890977, 0.40335415],\n",
       "       [0.30550016, 0.62558304, 0.89577976, 0.00101112]])"
      ]
     },
     "execution_count": 199,
     "metadata": {},
     "output_type": "execute_result"
    }
   ],
   "source": [
    "X"
   ]
  },
  {
   "cell_type": "code",
   "execution_count": 215,
   "metadata": {},
   "outputs": [
    {
     "data": {
      "text/plain": [
       "(1000, 5)"
      ]
     },
     "execution_count": 215,
     "metadata": {},
     "output_type": "execute_result"
    }
   ],
   "source": [
    "X1.shape"
   ]
  },
  {
   "cell_type": "code",
   "execution_count": 213,
   "metadata": {},
   "outputs": [
    {
     "data": {
      "text/plain": [
       "(1000, 1)"
      ]
     },
     "execution_count": 213,
     "metadata": {},
     "output_type": "execute_result"
    }
   ],
   "source": [
    "result = X1 @ w.reshape(-1, 1)\n",
    "result.shape"
   ]
  },
  {
   "cell_type": "code",
   "execution_count": 209,
   "metadata": {},
   "outputs": [
    {
     "data": {
      "text/plain": [
       "array([[3.39744294, 1.05106772, 2.09508075, 0.59685942, 1.53060819],\n",
       "       [3.44207307, 0.72853585, 1.98185793, 1.08911051, 1.53719979],\n",
       "       [4.209082  , 0.68315204, 2.81113244, 1.3028189 , 1.65221989],\n",
       "       ...,\n",
       "       [1.80944202, 0.64859323, 1.30030611, 0.68363455, 1.35471709],\n",
       "       [3.79426993, 1.59946421, 3.4427144 , 0.93083805, 1.70182974],\n",
       "       [3.11057121, 1.21077869, 2.87652523, 0.4233611 , 1.56194659]])"
      ]
     },
     "execution_count": 209,
     "metadata": {},
     "output_type": "execute_result"
    }
   ],
   "source": [
    "X1 @ neww.reshape()"
   ]
  },
  {
   "cell_type": "code",
   "execution_count": 201,
   "metadata": {},
   "outputs": [
    {
     "ename": "ValueError",
     "evalue": "matmul: Input operand 1 has a mismatch in its core dimension 0, with gufunc signature (n?,k),(k,m?)->(n?,m?) (size 5 is different from 4)",
     "output_type": "error",
     "traceback": [
      "\u001b[0;31m---------------------------------------------------------------------------\u001b[0m",
      "\u001b[0;31mValueError\u001b[0m                                Traceback (most recent call last)",
      "\u001b[0;32m<ipython-input-201-e98f2d528113>\u001b[0m in \u001b[0;36m<module>\u001b[0;34m\u001b[0m\n\u001b[0;32m----> 1\u001b[0;31m \u001b[0mX\u001b[0m \u001b[0;34m@\u001b[0m \u001b[0mw\u001b[0m\u001b[0;34m.\u001b[0m\u001b[0mT\u001b[0m\u001b[0;34m\u001b[0m\u001b[0;34m\u001b[0m\u001b[0m\n\u001b[0m",
      "\u001b[0;31mValueError\u001b[0m: matmul: Input operand 1 has a mismatch in its core dimension 0, with gufunc signature (n?,k),(k,m?)->(n?,m?) (size 5 is different from 4)"
     ]
    }
   ],
   "source": [
    "X @ w.reshape(-1, 1)T"
   ]
  },
  {
   "cell_type": "code",
   "execution_count": 220,
   "metadata": {},
   "outputs": [],
   "source": [
    "def compute_grad(X, y, w):\n",
    "    delta = 1e-10\n",
    "    ones = np.ones((m, 1))\n",
    "    X1 = np.hstack((X, ones))\n",
    "    \n",
    "    # Loss before increaseing w\n",
    "    ww = w.reshape(-1, 1)\n",
    "    ypred = X1 @ ww\n",
    "    error = ypred - y.reshape(-1, 1)\n",
    "    loss = np.sum(error * error)\n",
    "    \n",
    "    eps = 1e-8\n",
    "    # Loss after increasing w\n",
    "    numw = w.shape[0]\n",
    "    a = np.zeros((numw, numw))\n",
    "    np.fill_diagonal(a, eps)\n",
    "    neww = w + a\n",
    "    ypred = X1 @ neww\n",
    "    error = ypred - y.reshape(-1, 1)\n",
    "    loss1 = np.sum(error * error, axis=0)\n",
    "    \n",
    "    return (loss1 - loss)/eps"
   ]
  },
  {
   "cell_type": "code",
   "execution_count": 222,
   "metadata": {},
   "outputs": [],
   "source": [
    "g = compute_grad(X, y, w)"
   ]
  },
  {
   "cell_type": "code",
   "execution_count": 225,
   "metadata": {},
   "outputs": [
    {
     "data": {
      "text/plain": [
       "array([-8.81334448e+13,  2.98021781e+13, -4.44715474e+13,  3.84982785e+13,\n",
       "        3.10433252e+13])"
      ]
     },
     "execution_count": 225,
     "metadata": {},
     "output_type": "execute_result"
    }
   ],
   "source": [
    "g"
   ]
  },
  {
   "cell_type": "code",
   "execution_count": 1,
   "metadata": {},
   "outputs": [
    {
     "ename": "NameError",
     "evalue": "name 'np' is not defined",
     "output_type": "error",
     "traceback": [
      "\u001b[0;31m---------------------------------------------------------------------------\u001b[0m",
      "\u001b[0;31mNameError\u001b[0m                                 Traceback (most recent call last)",
      "\u001b[0;32m<ipython-input-1-4f38cf611e44>\u001b[0m in \u001b[0;36m<module>\u001b[0;34m\u001b[0m\n\u001b[0;32m----> 1\u001b[0;31m \u001b[0mnp\u001b[0m\u001b[0;34m.\u001b[0m\u001b[0mrandom\u001b[0m\u001b[0;34m.\u001b[0m\u001b[0mrandin\u001b[0m\u001b[0;34m\u001b[0m\u001b[0;34m\u001b[0m\u001b[0m\n\u001b[0m",
      "\u001b[0;31mNameError\u001b[0m: name 'np' is not defined"
     ]
    }
   ],
   "source": [
    "# Training\n",
    "\n",
    "\n",
    "def fit(lossf, X, y, w, epoch):\n",
    "    for i in range(epoch):\n",
    "        grad = compute_grad(lossf, X, y, w)\n",
    "        w -= eta * grad\n",
    "        print(lossf(X, y, w))"
   ]
  },
  {
   "cell_type": "code",
   "execution_count": null,
   "metadata": {},
   "outputs": [],
   "source": [
    "\n",
    "def initializeW(m, n=1):\n",
    "    pass\n",
    "\n",
    "def model(X, W):\n",
    "    return np.sum(W*X)\n",
    "\n",
    "def sqloss(X, y, W):\n",
    "    ypred = model(X, W)\n",
    "    diff = ypred - y\n",
    "    return np.sum(diff*diff)\n",
    "\n",
    "def grad(lossf, W, X, y, idx):\n",
    "    l1 = lossf(X, y, W)\n",
    "    ...\n",
    "\n",
    "def fit(X, y, lossf, W):\n",
    "    ...\n",
    "\n",
    "def train(X, y, epoch=10):\n",
    "    W = initializeW\n",
    "    for i in \n",
    "    "
   ]
  }
 ],
 "metadata": {
  "kernelspec": {
   "display_name": "Python 3",
   "language": "python",
   "name": "python3"
  },
  "language_info": {
   "codemirror_mode": {
    "name": "ipython",
    "version": 3
   },
   "file_extension": ".py",
   "mimetype": "text/x-python",
   "name": "python",
   "nbconvert_exporter": "python",
   "pygments_lexer": "ipython3",
   "version": "3.6.8"
  },
  "toc": {
   "base_numbering": 1,
   "nav_menu": {},
   "number_sections": true,
   "sideBar": true,
   "skip_h1_title": false,
   "title_cell": "Table of Contents",
   "title_sidebar": "Contents",
   "toc_cell": false,
   "toc_position": {},
   "toc_section_display": true,
   "toc_window_display": false
  }
 },
 "nbformat": 4,
 "nbformat_minor": 2
}
